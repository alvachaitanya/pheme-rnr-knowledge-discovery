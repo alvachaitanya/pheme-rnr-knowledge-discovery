{
 "cells": [
  {
   "cell_type": "code",
   "execution_count": 2,
   "metadata": {
    "collapsed": true
   },
   "outputs": [],
   "source": [
    "import pandas as pd\n",
    "import time\n",
    "import numpy as np\n",
    "from functools import reduce\n",
    "from lib.util import fetch_tweets, to_unix_tmsp, fetch_X\n",
    "import matplotlib.pyplot as plt\n",
    "\n",
    "#latent-factor modeling:\n",
    "from sklearn.decomposition import PCA,SparsePCA,KernelPCA\n",
    "from sklearn.manifold import TSNE, Isomap"
   ]
  },
  {
   "cell_type": "markdown",
   "metadata": {
    "collapsed": true
   },
   "source": [
    "### Read CSV file for thread level features and separate is_rumor tag with data:"
   ]
  },
  {
   "cell_type": "code",
   "execution_count": 19,
   "metadata": {
    "collapsed": false
   },
   "outputs": [
    {
     "name": "stdout",
     "output_type": "stream",
     "text": [
      "['Unnamed: 0' 'thread' 'user.verified' 'thread_length' 'hashtags_count'\n",
      " 'user.default_pic' 'urls_count' 'favorite_count' 'has_smile_emoji'\n",
      " 'retweet_count' 'user.has_bg_img' 'user.tweets_count'\n",
      " 'src.followers_count' 'src.listed_count' 'src.user_verified' 'created'\n",
      " 'src.created_at' 'src.tweets_total' 'first_resp' 'last_resp' 'resp_var'\n",
      " 'time_to_first_resp' 'time_to_last_resp']\n"
     ]
    }
   ],
   "source": [
    "fn = \"data/threads/germanwings-crash.csv\"\n",
    "gw_thrds=fetch_X(fn)\n",
    "gw_thrds_rumortags=gw_thrds[\"is_rumor\"]\n",
    "gw_thrds_without_rumor_tag=gw_thrds.drop(['is_rumor'], axis=1)\n",
    "\n",
    "print(gw_thrds_without_rumor_tag.columns.values)\n"
   ]
  },
  {
   "cell_type": "markdown",
   "metadata": {},
   "source": [
    "### Used functions:"
   ]
  },
  {
   "cell_type": "code",
   "execution_count": 20,
   "metadata": {
    "collapsed": true
   },
   "outputs": [],
   "source": [
    "def convertTrueFalseTo01(X):\n",
    "    X[X==True]=1.0\n",
    "    X[X==False]=0.0\n",
    "    #X[X=='True']=1.0\n",
    "    #X[X=='False']=0.0\n",
    "    return X\n",
    "\n",
    "def standardize_cols(X, mu=None, sigma=None):\n",
    "    # Standardize each column with mean 0 and variance 1\n",
    "    n_rows, n_cols = X.shape\n",
    "\n",
    "    if mu is None:\n",
    "        mu = np.mean(X, axis=0)\n",
    "\n",
    "    if sigma is None:\n",
    "        sigma = np.std(X, axis=0)\n",
    "        sigma[sigma < 1e-8] = 1.\n",
    "\n",
    "    return (X - mu) / sigma, mu, sigma\n"
   ]
  },
  {
   "cell_type": "markdown",
   "metadata": {},
   "source": [
    "### Data Preprocessing:"
   ]
  },
  {
   "cell_type": "code",
   "execution_count": 8,
   "metadata": {
    "collapsed": false
   },
   "outputs": [
    {
     "name": "stdout",
     "output_type": "stream",
     "text": [
      "(405, 22)\n"
     ]
    }
   ],
   "source": [
    "gw_thrds_values=gw_thrds_without_rumor_tag.values\n",
    "n,d=gw_thrds_values.shape\n",
    "gw_thrds_values=convertTrueFalseTo01(gw_thrds_values[:,1:d])\n",
    "n,d=gw_thrds_values.shape\n",
    "\n",
    "gw_thrds_rumortags_values=convertTrueFalseTo01(gw_thrds_rumortags.values)\n",
    "gw_thrds_values,_,_=standardize_cols(gw_thrds_values.astype(float))\n",
    "\n",
    "n,d=gw_thrds_values.shape\n",
    "print(gw_thrds_values.shape)"
   ]
  },
  {
   "cell_type": "markdown",
   "metadata": {},
   "source": [
    "### PCA:"
   ]
  },
  {
   "cell_type": "code",
   "execution_count": 10,
   "metadata": {
    "collapsed": true
   },
   "outputs": [],
   "source": [
    "model=PCA(n_components=2)\n",
    "model.fit(gw_thrds_values)\n",
    "Z_PCA=model.transform(gw_thrds_values)\n",
    "plt.figure()\n",
    "plt.title(\"PCA\")\n",
    "plt.scatter(Z_PCA[:,0],Z_PCA[:,1],c=gw_thrds_rumortags_values)\n",
    "plt.show()"
   ]
  },
  {
   "cell_type": "markdown",
   "metadata": {},
   "source": [
    "### TSNE:"
   ]
  },
  {
   "cell_type": "code",
   "execution_count": 12,
   "metadata": {
    "collapsed": true
   },
   "outputs": [],
   "source": [
    "model=TSNE(n_components=2)\n",
    "Z_TSNE=model.fit_transform(gw_thrds_values)\n",
    "plt.figure()\n",
    "plt.title(\"TSNE\")\n",
    "plt.scatter(Z_TSNE[:,0],Z_TSNE[:,1],c=gw_thrds_rumortags_values)\n",
    "plt.show()"
   ]
  },
  {
   "cell_type": "markdown",
   "metadata": {},
   "source": [
    "### Isomap:\n"
   ]
  },
  {
   "cell_type": "code",
   "execution_count": 14,
   "metadata": {
    "collapsed": true
   },
   "outputs": [],
   "source": [
    "model=Isomap(n_components=2,n_neighbors=4)\n",
    "Z_Isomap=model.fit_transform(gw_thrds_values)\n",
    "plt.figure()\n",
    "plt.title(\"Isomap\")\n",
    "plt.scatter(Z_Isomap[:,0],Z_Isomap[:,1],c=gw_thrds_rumortags_values)\n",
    "plt.show()"
   ]
  },
  {
   "cell_type": "markdown",
   "metadata": {},
   "source": [
    "### SparsePCA:"
   ]
  },
  {
   "cell_type": "code",
   "execution_count": 16,
   "metadata": {
    "collapsed": true
   },
   "outputs": [],
   "source": [
    "model=SparsePCA(n_components=2,normalize_components=True)\n",
    "model.fit(gw_thrds_values)\n",
    "Z_PCA=model.transform(gw_thrds_values)\n",
    "plt.figure()\n",
    "plt.title(\"SparsePCA\")\n",
    "plt.scatter(Z_PCA[:,0],Z_PCA[:,1],c=gw_thrds_rumortags_values)\n",
    "plt.show()"
   ]
  },
  {
   "cell_type": "markdown",
   "metadata": {},
   "source": [
    "### KernelPCA:"
   ]
  },
  {
   "cell_type": "code",
   "execution_count": 18,
   "metadata": {
    "collapsed": true
   },
   "outputs": [],
   "source": [
    "model=KernelPCA(n_components=2)\n",
    "model.fit(gw_thrds_values)\n",
    "Z_PCA=model.transform(gw_thrds_values)\n",
    "plt.figure()\n",
    "plt.title(\"KernelPCA\")\n",
    "plt.scatter(Z_PCA[:,0],Z_PCA[:,1],c=gw_thrds_rumortags_values)\n",
    "plt.show()"
   ]
  },
  {
   "cell_type": "code",
   "execution_count": null,
   "metadata": {
    "collapsed": true
   },
   "outputs": [],
   "source": []
  }
 ],
 "metadata": {
  "kernelspec": {
   "display_name": "Python 3",
   "language": "python",
   "name": "python3"
  },
  "language_info": {
   "codemirror_mode": {
    "name": "ipython",
    "version": 3
   },
   "file_extension": ".py",
   "mimetype": "text/x-python",
   "name": "python",
   "nbconvert_exporter": "python",
   "pygments_lexer": "ipython3",
   "version": "3.5.4"
  }
 },
 "nbformat": 4,
 "nbformat_minor": 0
}
