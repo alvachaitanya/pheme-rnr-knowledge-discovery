{
 "cells": [
  {
   "cell_type": "code",
   "execution_count": 1,
   "metadata": {
    "collapsed": true
   },
   "outputs": [],
   "source": [
    "# Load dependencies for this Jupyter Notebook\n",
    "import pandas as pd\n",
    "import time\n",
    "import numpy as np\n",
    "from functools import reduce\n",
    "from lib.util import fetch_thread\n",
    "\n",
    "import matplotlib.pyplot as plt\n",
    "\n",
    "#latent-factor modeling:\n",
    "from sklearn.decomposition import PCA,SparsePCA,KernelPCA\n",
    "from sklearn.manifold import TSNE, Isomap"
   ]
  },
  {
   "cell_type": "markdown",
   "metadata": {
    "collapsed": true
   },
   "source": [
    "### Read CSV file for thread level features and separate is_rumor tag with data:"
   ]
  },
  {
   "cell_type": "code",
   "execution_count": 2,
   "metadata": {
    "collapsed": false
   },
   "outputs": [],
   "source": [
    "events=[\n",
    "            \"germanwings-crash\",\n",
    "            \"sydneysiege\",\n",
    "            \"ottawashooting\",\n",
    "            \"ferguson\",\n",
    "            \"charliehebdo\",\n",
    "        ]\n",
    "\n",
    "events_threads={}\n",
    "for event in events:\n",
    "    X,y=fetch_thread(event)\n",
    "    X=X.drop(X.columns.values[np.where(np.isnan(X.values))[1]],axis=1)\n",
    "    events_threads[event]={'X':X.values,'y':y.values}\n"
   ]
  },
  {
   "cell_type": "markdown",
   "metadata": {},
   "source": [
    "### Data Preprocessing:"
   ]
  },
  {
   "cell_type": "code",
   "execution_count": 27,
   "metadata": {
    "collapsed": true
   },
   "outputs": [],
   "source": [
    "def merge_datasets(events_to_merge):\n",
    "    d=events_threads[events_to_merge[0]]['X'].shape[1]\n",
    "    X=np.zeros((0,d))\n",
    "    y=np.zeros((0))\n",
    "    ytag=np.zeros((0))\n",
    "    i=0\n",
    "    for event in events_to_merge:\n",
    "        X=np.concatenate((X,events_threads[event]['X']),axis=0)\n",
    "        y=np.concatenate((y,events_threads[event]['y']),axis=0)\n",
    "        ytag=np.concatenate((ytag,i*np.ones(events_threads[event]['y'].shape)),axis=0)\n",
    "        i+=1\n",
    "    print(X.shape,y.shape)\n",
    "    return X, y,ytag"
   ]
  },
  {
   "cell_type": "code",
   "execution_count": 4,
   "metadata": {
    "collapsed": false
   },
   "outputs": [
    {
     "name": "stdout",
     "output_type": "stream",
     "text": [
      "(1010, 111) (1010,)\n"
     ]
    }
   ],
   "source": [
    "X,y,ytag=merge_datasets(['ferguson'])"
   ]
  },
  {
   "cell_type": "code",
   "execution_count": 5,
   "metadata": {
    "collapsed": true
   },
   "outputs": [],
   "source": [
    "### PCA:\n",
    "\n",
    "model=PCA(n_components=2)\n",
    "model.fit(X)\n",
    "Z_PCA=model.transform(X)\n",
    "plt.figure()\n",
    "plt.title(\"PCA\")\n",
    "plt.scatter(Z_PCA[:,0],Z_PCA[:,1],c=y)\n",
    "plt.show()"
   ]
  },
  {
   "cell_type": "code",
   "execution_count": 6,
   "metadata": {
    "collapsed": true
   },
   "outputs": [],
   "source": [
    "### TSNE:\n",
    "\n",
    "model=TSNE(n_components=2)\n",
    "Z_TSNE=model.fit_transform(X)\n",
    "plt.figure()\n",
    "plt.title(\"TSNE\")\n",
    "plt.scatter(Z_TSNE[:,0],Z_TSNE[:,1],c=y)\n",
    "plt.show()"
   ]
  },
  {
   "cell_type": "code",
   "execution_count": 7,
   "metadata": {
    "collapsed": true
   },
   "outputs": [],
   "source": [
    "### Isomap:\n",
    "\n",
    "\n",
    "model=Isomap(n_components=2,n_neighbors=4)\n",
    "Z_Isomap=model.fit_transform(X)\n",
    "plt.figure()\n",
    "plt.title(\"Isomap\")\n",
    "plt.scatter(Z_Isomap[:,0],Z_Isomap[:,1],c=y)\n",
    "plt.show()"
   ]
  },
  {
   "cell_type": "code",
   "execution_count": 8,
   "metadata": {
    "collapsed": true
   },
   "outputs": [],
   "source": [
    "### SparsePCA:\n",
    "\n",
    "model=SparsePCA(n_components=2,normalize_components=True)\n",
    "model.fit(X)\n",
    "Z_PCA=model.transform(X)\n",
    "plt.figure()\n",
    "plt.title(\"SparsePCA\")\n",
    "plt.scatter(Z_PCA[:,0],Z_PCA[:,1],c=y)\n",
    "plt.show()"
   ]
  },
  {
   "cell_type": "code",
   "execution_count": 9,
   "metadata": {
    "collapsed": true
   },
   "outputs": [],
   "source": [
    "### KernelPCA:\n",
    "\n",
    "model=KernelPCA(n_components=2)\n",
    "model.fit(X)\n",
    "Z_PCA=model.transform(X)\n",
    "plt.figure()\n",
    "plt.title(\"KernelPCA\")\n",
    "plt.scatter(Z_PCA[:,0],Z_PCA[:,1],c=y)\n",
    "plt.show()"
   ]
  },
  {
   "cell_type": "markdown",
   "metadata": {},
   "source": [
    "## Latent Factor models for all the dataset:"
   ]
  },
  {
   "cell_type": "code",
   "execution_count": 28,
   "metadata": {
    "collapsed": false
   },
   "outputs": [
    {
     "name": "stdout",
     "output_type": "stream",
     "text": [
      "(5447, 111) (5447,)\n"
     ]
    }
   ],
   "source": [
    "X,y,ytag=merge_datasets(events)"
   ]
  },
  {
   "cell_type": "code",
   "execution_count": 29,
   "metadata": {
    "collapsed": false
   },
   "outputs": [],
   "source": [
    "### PCA:\n",
    "\n",
    "model=PCA(n_components=2)\n",
    "model.fit(X)\n",
    "Z_PCA=model.transform(X)\n",
    "plt.figure()\n",
    "plt.title(\"PCA\")\n",
    "plt.scatter(Z_PCA[:,0],Z_PCA[:,1],c=ytag)\n",
    "plt.show()"
   ]
  },
  {
   "cell_type": "code",
   "execution_count": 30,
   "metadata": {
    "collapsed": true
   },
   "outputs": [],
   "source": [
    "### TSNE:\n",
    "\n",
    "model=TSNE(n_components=2)\n",
    "Z_TSNE=model.fit_transform(X)\n",
    "plt.figure()\n",
    "plt.title(\"TSNE\")\n",
    "plt.scatter(Z_TSNE[:,0],Z_TSNE[:,1],c=ytag)\n",
    "plt.show()"
   ]
  },
  {
   "cell_type": "code",
   "execution_count": 31,
   "metadata": {
    "collapsed": false
   },
   "outputs": [],
   "source": [
    "### Isomap:\n",
    "\n",
    "\n",
    "model=Isomap(n_components=2,n_neighbors=4)\n",
    "Z_Isomap=model.fit_transform(X)\n",
    "plt.figure()\n",
    "plt.title(\"Isomap\")\n",
    "plt.scatter(Z_Isomap[:,0],Z_Isomap[:,1],c=ytag)\n",
    "plt.show()"
   ]
  },
  {
   "cell_type": "code",
   "execution_count": 32,
   "metadata": {
    "collapsed": true
   },
   "outputs": [],
   "source": [
    "### SparsePCA:\n",
    "\n",
    "model=SparsePCA(n_components=2,normalize_components=True)\n",
    "model.fit(X)\n",
    "Z_PCA=model.transform(X)\n",
    "plt.figure()\n",
    "plt.title(\"SparsePCA\")\n",
    "plt.scatter(Z_PCA[:,0],Z_PCA[:,1],c=ytag)\n",
    "plt.show()"
   ]
  },
  {
   "cell_type": "code",
   "execution_count": 33,
   "metadata": {
    "collapsed": true
   },
   "outputs": [],
   "source": [
    "### KernelPCA:\n",
    "\n",
    "model=KernelPCA(n_components=2)\n",
    "model.fit(X)\n",
    "Z_PCA=model.transform(X)\n",
    "plt.figure()\n",
    "plt.title(\"KernelPCA\")\n",
    "plt.scatter(Z_PCA[:,0],Z_PCA[:,1],c=ytag)\n",
    "plt.show()"
   ]
  },
  {
   "cell_type": "code",
   "execution_count": null,
   "metadata": {
    "collapsed": true
   },
   "outputs": [],
   "source": []
  },
  {
   "cell_type": "code",
   "execution_count": null,
   "metadata": {
    "collapsed": true
   },
   "outputs": [],
   "source": []
  }
 ],
 "metadata": {
  "kernelspec": {
   "display_name": "Python 3",
   "language": "python",
   "name": "python3"
  },
  "language_info": {
   "codemirror_mode": {
    "name": "ipython",
    "version": 3
   },
   "file_extension": ".py",
   "mimetype": "text/x-python",
   "name": "python",
   "nbconvert_exporter": "python",
   "pygments_lexer": "ipython3",
   "version": "3.5.4"
  }
 },
 "nbformat": 4,
 "nbformat_minor": 0
}
