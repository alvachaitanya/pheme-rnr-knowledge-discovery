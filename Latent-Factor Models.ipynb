{
 "cells": [
  {
   "cell_type": "markdown",
   "metadata": {},
   "source": [
    "# Latent Factor Models\n",
    "In this notebook, we train different latent factor models for events in the PHEME dataset, trying to see if latent factor models can separate rumour and non-rumour threads. We will also train these latent factor models on all the events to see if they can differentiate between different events."
   ]
  },
  {
   "cell_type": "markdown",
   "metadata": {},
   "source": [
    "## Load dependencies for this Jupyter Notebook\n",
    "We need the function to read the thread level csv files. We also need to plot the results. Some latent factor models from Scikit Learn are also imported."
   ]
  },
  {
   "cell_type": "code",
   "execution_count": 1,
   "metadata": {
    "collapsed": false
   },
   "outputs": [],
   "source": [
    "import pandas as pd\n",
    "import time\n",
    "import numpy as np\n",
    "from functools import reduce\n",
    "\n",
    "from lib.util import fetch_thread\n",
    "\n",
    "import matplotlib.pyplot as plt\n",
    "\n",
    "#latent-factor modeling:\n",
    "from sklearn.decomposition import PCA,SparsePCA,KernelPCA\n",
    "from sklearn.manifold import TSNE, Isomap"
   ]
  },
  {
   "cell_type": "markdown",
   "metadata": {
    "collapsed": true
   },
   "source": [
    "## Read CSV file for thread level features for all the events\n",
    "For each event, fetch the thread level features and store them in a dictionary. "
   ]
  },
  {
   "cell_type": "code",
   "execution_count": 2,
   "metadata": {
    "collapsed": false
   },
   "outputs": [],
   "source": [
    "events=[\n",
    "            \"ferguson\",\n",
    "            \"charliehebdo\",\n",
    "            \"germanwings-crash\",\n",
    "            \"sydneysiege\",\n",
    "            \"ottawashooting\",\n",
    "        ]\n",
    "\n",
    "events_threads={}\n",
    "for event in events:\n",
    "    X,y=fetch_thread(event)\n",
    "    X=X.drop(X.columns.values[np.where(np.isnan(X.values))[1]],axis=1)\n",
    "    events_threads[event]={'X':X.values,'y':y.values}\n"
   ]
  },
  {
   "cell_type": "markdown",
   "metadata": {},
   "source": [
    "### Data Preprocessing\n",
    "Merge the data from different events if we want to train the latent factor models on more than one event."
   ]
  },
  {
   "cell_type": "code",
   "execution_count": 27,
   "metadata": {
    "collapsed": true
   },
   "outputs": [],
   "source": [
    "def merge_datasets(events_to_merge):\n",
    "    d=events_threads[events_to_merge[0]]['X'].shape[1]\n",
    "    X=np.zeros((0,d))\n",
    "    y=np.zeros((0))\n",
    "    labels=np.zeros((0))\n",
    "    ytag=np.zeros((0))\n",
    "    i=0\n",
    "    for event in events_to_merge:\n",
    "        X=np.concatenate((X,events_threads[event]['X']),axis=0)\n",
    "        y=np.concatenate((y,events_threads[event]['y']),axis=0)\n",
    "        labels=np.concatenate((labels,['rumour' if x==1 else 'non-rumour' for x in events_threads[event]['y']]),axis=0)\n",
    "        ytag=np.concatenate((ytag,i*np.ones(events_threads[event]['y'].shape)),axis=0)\n",
    "        i+=1\n",
    "    print(X.shape,y.shape)\n",
    "    return X, y,ytag,labels"
   ]
  },
  {
   "cell_type": "markdown",
   "metadata": {},
   "source": [
    "## Run the latent factor models on the Ferguson event\n",
    "The Ferguson event is chosen arbitrarily among the events."
   ]
  },
  {
   "cell_type": "code",
   "execution_count": 23,
   "metadata": {
    "collapsed": false
   },
   "outputs": [
    {
     "name": "stdout",
     "output_type": "stream",
     "text": [
      "(405, 111) (405,)\n"
     ]
    }
   ],
   "source": [
    "X,y,ytag,labels=merge_datasets(['germanwings-crash'])"
   ]
  },
  {
   "cell_type": "code",
   "execution_count": 5,
   "metadata": {
    "collapsed": false
   },
   "outputs": [
    {
     "data": {
      "text/plain": [
       "<matplotlib.collections.PathCollection at 0x7beab742e8>"
      ]
     },
     "execution_count": 5,
     "metadata": {},
     "output_type": "execute_result"
    }
   ],
   "source": [
    "### PCA:\n",
    "plt.figure(figsize=(20,20))\n",
    "\n",
    "\n",
    "model=PCA(n_components=2)\n",
    "model.fit(X)\n",
    "Z_PCA=model.transform(X)\n",
    "plt.subplot(2,3,1)\n",
    "plt.title(\"PCA\")\n",
    "plt.scatter(Z_PCA[:,0],Z_PCA[:,1],c=y)\n"
   ]
  },
  {
   "cell_type": "code",
   "execution_count": 6,
   "metadata": {
    "collapsed": false
   },
   "outputs": [
    {
     "data": {
      "text/plain": [
       "<matplotlib.collections.PathCollection at 0x7beabae940>"
      ]
     },
     "execution_count": 6,
     "metadata": {},
     "output_type": "execute_result"
    }
   ],
   "source": [
    "### TSNE:\n",
    "\n",
    "model=TSNE(n_components=2)\n",
    "Z_TSNE=model.fit_transform(X)\n",
    "plt.subplot(2,3,2)\n",
    "plt.title(\"TSNE\")\n",
    "plt.scatter(Z_TSNE[:,0],Z_TSNE[:,1],c=y)\n"
   ]
  },
  {
   "cell_type": "code",
   "execution_count": 7,
   "metadata": {
    "collapsed": false
   },
   "outputs": [
    {
     "data": {
      "text/plain": [
       "<matplotlib.collections.PathCollection at 0x7beabdb3c8>"
      ]
     },
     "execution_count": 7,
     "metadata": {},
     "output_type": "execute_result"
    }
   ],
   "source": [
    "### SparsePCA:\n",
    "\n",
    "model=SparsePCA(n_components=2,normalize_components=True)\n",
    "model.fit(X)\n",
    "Z_PCA=model.transform(X)\n",
    "plt.subplot(2,3,3)\n",
    "plt.title(\"SparsePCA\")\n",
    "plt.scatter(Z_PCA[:,0],Z_PCA[:,1],c=y)\n"
   ]
  },
  {
   "cell_type": "code",
   "execution_count": 8,
   "metadata": {
    "collapsed": false
   },
   "outputs": [
    {
     "data": {
      "text/plain": [
       "<matplotlib.collections.PathCollection at 0x7bea9da5c0>"
      ]
     },
     "execution_count": 8,
     "metadata": {},
     "output_type": "execute_result"
    }
   ],
   "source": [
    "### Isomap:\n",
    "\n",
    "\n",
    "model=Isomap(n_components=2,n_neighbors=4)\n",
    "Z_Isomap=model.fit_transform(X)\n",
    "plt.subplot(2,3,4)\n",
    "plt.title(\"Isomap with n_neighbours=4\")\n",
    "plt.scatter(Z_Isomap[:,0],Z_Isomap[:,1],c=y)\n",
    "\n",
    "model=Isomap(n_components=2,n_neighbors=5)\n",
    "Z_Isomap=model.fit_transform(X)\n",
    "plt.subplot(2,3,5)\n",
    "plt.title(\"Isomap with n_neighbours=5\")\n",
    "plt.scatter(Z_Isomap[:,0],Z_Isomap[:,1],c=y)\n"
   ]
  },
  {
   "cell_type": "code",
   "execution_count": 9,
   "metadata": {
    "collapsed": false
   },
   "outputs": [],
   "source": [
    "### KernelPCA:\n",
    "\n",
    "model=KernelPCA(n_components=2)\n",
    "model.fit(X)\n",
    "Z_PCA=model.transform(X)\n",
    "plt.subplot(2,3,6)\n",
    "plt.title(\"KernelPCA\")\n",
    "plt.scatter(Z_PCA[:,0],Z_PCA[:,1],c=y)\n",
    "plt.show()"
   ]
  },
  {
   "cell_type": "markdown",
   "metadata": {},
   "source": [
    "### Interpretation of the results:\n",
    "It can be seen that none of these latent factor models can distinguish between rumour and non-rumour events. Seems like based on the features that we have extracted, the use of a latent factor model to model the differences between rumour and non-rumour threads is not possible."
   ]
  },
  {
   "cell_type": "markdown",
   "metadata": {},
   "source": [
    "## Latent Factor models for all the events\n",
    "In the following, we will train the latent factor models on all the events to see if the models can distinguish different events. "
   ]
  },
  {
   "cell_type": "code",
   "execution_count": 28,
   "metadata": {
    "collapsed": false
   },
   "outputs": [
    {
     "name": "stdout",
     "output_type": "stream",
     "text": [
      "(5447, 111) (5447,)\n"
     ]
    }
   ],
   "source": [
    "X,y,ytag,labels=merge_datasets(events)"
   ]
  },
  {
   "cell_type": "code",
   "execution_count": 44,
   "metadata": {
    "collapsed": false
   },
   "outputs": [],
   "source": [
    "### PCA:\n",
    "\n",
    "model=PCA(n_components=2)\n",
    "model.fit(X)\n",
    "Z_PCA=model.transform(X)\n",
    "ax=plt.figure()\n",
    "plt.title(\"PCA\")\n",
    "plt.scatter(Z_PCA[:,0],Z_PCA[:,1],c=ytag)\n",
    "plt.show()\n",
    "plt.figure()\n",
    "plt.title(\"PCA\")\n",
    "plt.scatter(Z_PCA[:,0],Z_PCA[:,1],c=y)\n",
    "plt.show()"
   ]
  },
  {
   "cell_type": "code",
   "execution_count": 45,
   "metadata": {
    "collapsed": false
   },
   "outputs": [],
   "source": [
    "### TSNE:\n",
    "\n",
    "model=TSNE(n_components=2)\n",
    "Z_TSNE=model.fit_transform(X)\n",
    "plt.figure()\n",
    "plt.title(\"TSNE\")\n",
    "plt.scatter(Z_TSNE[:,0],Z_TSNE[:,1],c=ytag)\n",
    "plt.show()\n",
    "plt.figure()\n",
    "plt.title(\"TSNE\")\n",
    "plt.scatter(Z_TSNE[:,0],Z_TSNE[:,1],c=y)\n",
    "plt.show()"
   ]
  },
  {
   "cell_type": "code",
   "execution_count": 46,
   "metadata": {
    "collapsed": false
   },
   "outputs": [],
   "source": [
    "### SparsePCA:\n",
    "\n",
    "model=SparsePCA(n_components=2,normalize_components=True)\n",
    "model.fit(X)\n",
    "Z_PCA=model.transform(X)\n",
    "plt.figure()\n",
    "plt.title(\"SparsePCA\")\n",
    "plt.scatter(Z_PCA[:,0],Z_PCA[:,1],c=ytag)\n",
    "plt.show()\n",
    "plt.figure()\n",
    "plt.title(\"SparsePCA\")\n",
    "plt.scatter(Z_PCA[:,0],Z_PCA[:,1],c=y)\n",
    "plt.show()"
   ]
  },
  {
   "cell_type": "code",
   "execution_count": 47,
   "metadata": {
    "collapsed": false
   },
   "outputs": [],
   "source": [
    "### Isomap:\n",
    "\n",
    "\n",
    "model=Isomap(n_components=2,n_neighbors=4)\n",
    "Z_Isomap=model.fit_transform(X)\n",
    "plt.figure()\n",
    "plt.title(\"Isomap with n_neighbours=4\")\n",
    "plt.scatter(Z_Isomap[:,0],Z_Isomap[:,1],c=ytag)\n",
    "plt.show()\n",
    "plt.figure()\n",
    "plt.title(\"Isomap with n_neighbours=4\")\n",
    "plt.scatter(Z_Isomap[:,0],Z_Isomap[:,1],c=y)\n",
    "plt.show()"
   ]
  },
  {
   "cell_type": "code",
   "execution_count": 48,
   "metadata": {
    "collapsed": false
   },
   "outputs": [],
   "source": [
    "### Isomap:\n",
    "\n",
    "\n",
    "model=Isomap(n_components=2,n_neighbors=5)\n",
    "Z_Isomap=model.fit_transform(X)\n",
    "plt.figure()\n",
    "plt.title(\"Isomap with n_neighbours=5\")\n",
    "plt.scatter(Z_Isomap[:,0],Z_Isomap[:,1],c=ytag)\n",
    "plt.show()\n",
    "plt.figure()\n",
    "plt.title(\"Isomap with n_neighbours=5\")\n",
    "plt.scatter(Z_Isomap[:,0],Z_Isomap[:,1],c=y)\n",
    "plt.show()"
   ]
  },
  {
   "cell_type": "code",
   "execution_count": 49,
   "metadata": {
    "collapsed": true
   },
   "outputs": [],
   "source": [
    "### KernelPCA:\n",
    "\n",
    "model=KernelPCA(n_components=2)\n",
    "model.fit(X)\n",
    "Z_PCA=model.transform(X)\n",
    "plt.figure()\n",
    "plt.title(\"KernelPCA\")\n",
    "plt.scatter(Z_PCA[:,0],Z_PCA[:,1],c=ytag)\n",
    "plt.show()\n",
    "plt.figure()\n",
    "plt.title(\"KernelPCA\")\n",
    "plt.scatter(Z_PCA[:,0],Z_PCA[:,1],c=y)\n",
    "plt.show()"
   ]
  },
  {
   "cell_type": "markdown",
   "metadata": {
    "collapsed": true
   },
   "source": [
    "### Interpretation of results:\n",
    "Looks like TSNE is able to distinguish between different events in the dataset by looking at our extracted features.\n",
    "This can have some positive and negative interpretations. The negative interpretation is that if different events are distinguishable, generalizing the models trained for some events to predict on new events is hard. This result is also seen in the linear classifiers that we use in the classification models section: The linear models trained on some events can not detect romour in other events."
   ]
  },
  {
   "cell_type": "code",
   "execution_count": null,
   "metadata": {
    "collapsed": true
   },
   "outputs": [],
   "source": []
  }
 ],
 "metadata": {
  "kernelspec": {
   "display_name": "Python 3",
   "language": "python",
   "name": "python3"
  },
  "language_info": {
   "codemirror_mode": {
    "name": "ipython",
    "version": 3
   },
   "file_extension": ".py",
   "mimetype": "text/x-python",
   "name": "python",
   "nbconvert_exporter": "python",
   "pygments_lexer": "ipython3",
   "version": "3.5.4"
  }
 },
 "nbformat": 4,
 "nbformat_minor": 0
}
