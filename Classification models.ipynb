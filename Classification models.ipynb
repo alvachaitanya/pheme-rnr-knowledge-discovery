{
 "cells": [
  {
   "cell_type": "markdown",
   "metadata": {},
   "source": [
    "# Classification models and feature selection\n",
    "In this notebook, we train some classification models based on the thread level features. Then we use the weights in the linear models to select the most related features in detecting rumour.\n",
    "The steps include:\n",
    "1. Load dependancies\n",
    "2. Read the thread level features from the csv file containing the samples for each event\n",
    "3. Define some classification models to be trained\n",
    "4. Train and test the models on the dataset:\n",
    "    4.1. Decide on the train data and the test data\n",
    "    4.2. Train and test "
   ]
  },
  {
   "cell_type": "markdown",
   "metadata": {},
   "source": [
    "## Load dependencies for this Jupyter Notebook\n",
    "We need the function to read the thread level csv files. We also need to plot the results. Some classification models from Scikit Learn are also imported."
   ]
  },
  {
   "cell_type": "code",
   "execution_count": 1,
   "metadata": {
    "collapsed": false
   },
   "outputs": [],
   "source": [
    "# Load dependencies for this Jupyter Notebook\n",
    "import pandas as pd\n",
    "import time\n",
    "import numpy as np\n",
    "from functools import reduce\n",
    "from lib.util import fetch_thread\n",
    "import matplotlib.pyplot as plt\n",
    "\n",
    "import seaborn as sns\n",
    "\n",
    "#Train and Test preprocessing\n",
    "from sklearn.model_selection import train_test_split\n",
    "from sklearn import preprocessing\n",
    "\n",
    "#Classifiers:\n",
    "from sklearn import svm\n",
    "from sklearn.tree import DecisionTreeClassifier\n",
    "from sklearn.ensemble import RandomForestClassifier, AdaBoostClassifier\n",
    "from sklearn.neighbors import KNeighborsClassifier\n",
    "from sklearn.gaussian_process import GaussianProcessClassifier\n",
    "from sklearn.gaussian_process import GaussianProcessClassifier\n",
    "from sklearn.gaussian_process.kernels import RBF"
   ]
  },
  {
   "cell_type": "markdown",
   "metadata": {},
   "source": [
    "### Read CSV file for thread level features and separate is_rumor tag with data:\n",
    "For each event, fetch the thread level features and store them in a dictionary. "
   ]
  },
  {
   "cell_type": "code",
   "execution_count": 2,
   "metadata": {
    "collapsed": true
   },
   "outputs": [],
   "source": [
    "events=[\n",
    "            \"germanwings-crash\",\n",
    "            \"sydneysiege\",\n",
    "            \"ottawashooting\",\n",
    "            \"ferguson\",\n",
    "            \"charliehebdo\",\n",
    "        ]"
   ]
  },
  {
   "cell_type": "code",
   "execution_count": 3,
   "metadata": {
    "collapsed": false
   },
   "outputs": [],
   "source": [
    "events_threads={}\n",
    "for event in events:\n",
    "    X,y=fetch_thread(event)\n",
    "    X=X.drop(X.columns.values[np.where(np.isnan(X.values))[1]],axis=1)\n",
    "    events_threads[event]={'X':X.values,'y':y.values,'columns':X.columns}"
   ]
  },
  {
   "cell_type": "markdown",
   "metadata": {},
   "source": [
    "### Used functions:\n",
    "* **test_models**: given a list of classification models and train/test data, train the models on the data and report the train and test accuracy.\n",
    "* **split_train_and_test_data**: given the names of some of the events for training and testing, split the data into train and test data:\n",
    "    * If an event should go in both the train and test data, split the data in that event into 75% train data and 25% test data. \n",
    "    * If an event should go in only train or test data, store all the samples in that event in the respective train or test set."
   ]
  },
  {
   "cell_type": "code",
   "execution_count": 39,
   "metadata": {
    "collapsed": false
   },
   "outputs": [],
   "source": [
    "def test_models(models,X_train, X_test, y_train, y_test):\n",
    "    for model_name in models:\n",
    "        model=models[model_name]\n",
    "        model.fit(X_train,y_train)\n",
    "        y_test_hat=model.predict(X_test)\n",
    "        print('%s train accuracy:' % model_name, np.mean(model.predict(X_train)==y_train))\n",
    "        print('%s test accuracy:' % model_name, np.mean(y_test_hat==y_test))\n",
    "        print()\n",
    "        \n",
    "def split_train_and_test_data(train_events,test_events):\n",
    "    d=events_threads[train_events[0]]['X'].shape[1]\n",
    "    X_train=np.zeros((0,d))\n",
    "    X_test=np.zeros((0,d))\n",
    "    y_train=np.zeros((0))\n",
    "    y_test=np.zeros((0))\n",
    "    for event in train_events:\n",
    "        if event in test_events:\n",
    "            X_train1, X_test1, y_train1, y_test1 = train_test_split(events_threads[event]['X'], events_threads[event]['y'], test_size=0.25, random_state=1)\n",
    "            X_train=np.concatenate((X_train,X_train1),axis=0)\n",
    "            y_train=np.concatenate((y_train,y_train1),axis=None)  \n",
    "            X_test=np.concatenate((X_test,X_test1),axis=0)\n",
    "            y_test=np.concatenate((y_test,y_test1),axis=None)\n",
    "        else:\n",
    "            X_train=np.concatenate((X_train,events_threads[event]['X']),axis=0)\n",
    "            y_train=np.concatenate((y_train,events_threads[event]['y']),axis=0)\n",
    "\n",
    "\n",
    "    for event in test_events:\n",
    "        if event not in train_events:\n",
    "            X_test=np.concatenate((X_test,events_threads[event]['X']),axis=0)\n",
    "            y_test=np.concatenate((y_test,events_threads[event]['y']),axis=0)\n",
    "\n",
    "    le = preprocessing.LabelEncoder()\n",
    "    le.fit(y_train)\n",
    "    y_train=le.transform(y_train)\n",
    "    y_test=le.transform(y_test)\n",
    "    return X_train, X_test, y_train, y_test\n"
   ]
  },
  {
   "cell_type": "markdown",
   "metadata": {},
   "source": [
    "## Testing different Classification Models on Different parts of dataset\n",
    "### Models dictionary:"
   ]
  },
  {
   "cell_type": "code",
   "execution_count": 34,
   "metadata": {
    "collapsed": false
   },
   "outputs": [],
   "source": [
    "models={\n",
    "    'LinearSVC_with_L1_Regularization' : svm.LinearSVC(penalty='l1',dual=False,max_iter=3000),\n",
    "    'linear_SVM':svm.SVC(gamma='scale', kernel='linear'),\n",
    "    'SVM_with_RBF_kernel': svm.SVC(gamma='scale', kernel='rbf'),\n",
    "    'SVM_with_sigmoid_kernel' : svm.SVC(gamma='scale', kernel='sigmoid'),\n",
    "    'KNN_with_k=5':KNeighborsClassifier(n_neighbors=5),\n",
    "    'Decision_Tree_Classifier':DecisionTreeClassifier(random_state=0),\n",
    "    'Random_Forest_Classifier_n=100_maxDepth=3':RandomForestClassifier(n_estimators=100, max_depth=3, random_state=4),\n",
    "    'AdaBoost_n=100':AdaBoostClassifier(n_estimators=100),\n",
    "    'Gaussian_Process_Classifier':GaussianProcessClassifier(1.0 * RBF(1.0)),\n",
    "}"
   ]
  },
  {
   "cell_type": "markdown",
   "metadata": {},
   "source": [
    "### 1. Train and test on the *charliehebdo* event:\n",
    "This is the largest event."
   ]
  },
  {
   "cell_type": "code",
   "execution_count": 29,
   "metadata": {
    "collapsed": false
   },
   "outputs": [
    {
     "name": "stdout",
     "output_type": "stream",
     "text": [
      "(1501, 111) (501, 111) (1501,) (501,)\n",
      "y_train bincount: [ 0.77948035  0.22051965]\n",
      "y_test bincount: [ 0.76846307  0.23153693]\n",
      "Decision_Tree_Classifier train accuracy: 1.0\n",
      "Decision_Tree_Classifier test accuracy: 0.778443113772\n",
      "\n",
      "Gaussian_Process_Classifier train accuracy: 1.0\n",
      "Gaussian_Process_Classifier test accuracy: 0.694610778443\n",
      "\n",
      "KNN_with_k=5 train accuracy: 0.82944703531\n",
      "KNN_with_k=5 test accuracy: 0.744510978044\n",
      "\n",
      "Random_Forest_Classifier_n=100_maxDepth=3 train accuracy: 0.796802131912\n",
      "Random_Forest_Classifier_n=100_maxDepth=3 test accuracy: 0.782435129741\n",
      "\n",
      "linear_SVM train accuracy: 0.8254497002\n",
      "linear_SVM test accuracy: 0.802395209581\n",
      "\n",
      "SVM_with_RBF_kernel train accuracy: 0.830779480346\n",
      "SVM_with_RBF_kernel test accuracy: 0.776447105788\n",
      "\n",
      "SVM_with_sigmoid_kernel train accuracy: 0.758161225849\n",
      "SVM_with_sigmoid_kernel test accuracy: 0.744510978044\n",
      "\n",
      "AdaBoost_n=100 train accuracy: 0.9127248501\n",
      "AdaBoost_n=100 test accuracy: 0.828343313373\n",
      "\n",
      "LinearSVC_with_L1_Regularization train accuracy: 0.820786142572\n",
      "LinearSVC_with_L1_Regularization test accuracy: 0.802395209581\n",
      "\n"
     ]
    }
   ],
   "source": [
    "X_train, X_test, y_train, y_test=split_train_and_test_data(['charliehebdo'],['charliehebdo'])\n",
    "test_models(models,X_train, X_test, y_train, y_test)"
   ]
  },
  {
   "cell_type": "markdown",
   "metadata": {},
   "source": [
    "### 2. Train and test on the *charliehebdo* and *sydneysiege* events:"
   ]
  },
  {
   "cell_type": "code",
   "execution_count": 30,
   "metadata": {
    "collapsed": false,
    "scrolled": true
   },
   "outputs": [
    {
     "name": "stdout",
     "output_type": "stream",
     "text": [
      "(2380, 111) (795, 111) (2380,) (795,)\n",
      "y_train bincount: [ 0.70504202  0.29495798]\n",
      "y_test bincount: [ 0.6918239  0.3081761]\n",
      "Decision_Tree_Classifier train accuracy: 1.0\n",
      "Decision_Tree_Classifier test accuracy: 0.734591194969\n",
      "\n",
      "Gaussian_Process_Classifier train accuracy: 1.0\n",
      "Gaussian_Process_Classifier test accuracy: 0.666666666667\n",
      "\n",
      "KNN_with_k=5 train accuracy: 0.815546218487\n",
      "KNN_with_k=5 test accuracy: 0.711949685535\n",
      "\n",
      "Random_Forest_Classifier_n=100_maxDepth=3 train accuracy: 0.752100840336\n",
      "Random_Forest_Classifier_n=100_maxDepth=3 test accuracy: 0.732075471698\n",
      "\n",
      "linear_SVM train accuracy: 0.737394957983\n",
      "linear_SVM test accuracy: 0.700628930818\n",
      "\n",
      "SVM_with_RBF_kernel train accuracy: 0.819327731092\n",
      "SVM_with_RBF_kernel test accuracy: 0.725786163522\n",
      "\n",
      "SVM_with_sigmoid_kernel train accuracy: 0.668907563025\n",
      "SVM_with_sigmoid_kernel test accuracy: 0.679245283019\n",
      "\n",
      "AdaBoost_n=100 train accuracy: 0.849579831933\n",
      "AdaBoost_n=100 test accuracy: 0.768553459119\n",
      "\n",
      "LinearSVC_with_L1_Regularization train accuracy: 0.754621848739\n",
      "LinearSVC_with_L1_Regularization test accuracy: 0.739622641509\n",
      "\n"
     ]
    },
    {
     "name": "stderr",
     "output_type": "stream",
     "text": [
      "D:\\Anaconda3\\lib\\site-packages\\sklearn\\svm\\base.py:922: ConvergenceWarning: Liblinear failed to converge, increase the number of iterations.\n",
      "  \"the number of iterations.\", ConvergenceWarning)\n"
     ]
    }
   ],
   "source": [
    "X_train, X_test, y_train, y_test=split_train_and_test_data(['sydneysiege','charliehebdo'],['sydneysiege','charliehebdo'])\n",
    "test_models(models,X_train, X_test, y_train, y_test)"
   ]
  },
  {
   "cell_type": "markdown",
   "metadata": {},
   "source": [
    "### 3. Train on the *ferguson* and testing on *sydneysiege* events:"
   ]
  },
  {
   "cell_type": "code",
   "execution_count": 31,
   "metadata": {
    "collapsed": false
   },
   "outputs": [
    {
     "name": "stdout",
     "output_type": "stream",
     "text": [
      "(405, 111) (857, 111) (405,) (857,)\n",
      "y_train bincount: [ 0.50123457  0.49876543]\n",
      "y_test bincount: [ 0.46674446  0.53325554]\n",
      "Decision_Tree_Classifier train accuracy: 1.0\n",
      "Decision_Tree_Classifier test accuracy: 0.541423570595\n",
      "\n",
      "Gaussian_Process_Classifier train accuracy: 1.0\n",
      "Gaussian_Process_Classifier test accuracy: 0.501750291715\n",
      "\n",
      "KNN_with_k=5 train accuracy: 0.750617283951\n",
      "KNN_with_k=5 test accuracy: 0.521586931155\n",
      "\n",
      "Random_Forest_Classifier_n=100_maxDepth=3 train accuracy: 0.841975308642\n",
      "Random_Forest_Classifier_n=100_maxDepth=3 test accuracy: 0.537922987165\n",
      "\n",
      "linear_SVM train accuracy: 0.844444444444\n",
      "linear_SVM test accuracy: 0.462077012835\n",
      "\n",
      "SVM_with_RBF_kernel train accuracy: 0.883950617284\n",
      "SVM_with_RBF_kernel test accuracy: 0.487747957993\n",
      "\n",
      "SVM_with_sigmoid_kernel train accuracy: 0.641975308642\n",
      "SVM_with_sigmoid_kernel test accuracy: 0.534422403734\n",
      "\n",
      "AdaBoost_n=100 train accuracy: 1.0\n",
      "AdaBoost_n=100 test accuracy: 0.558926487748\n",
      "\n",
      "LinearSVC_with_L1_Regularization train accuracy: 0.81975308642\n",
      "LinearSVC_with_L1_Regularization test accuracy: 0.456242707118\n",
      "\n"
     ]
    }
   ],
   "source": [
    "X_train, X_test, y_train, y_test=split_train_and_test_data(['germanwings-crash'],['ottawashooting'])\n",
    "test_models(models,X_train, X_test, y_train, y_test)"
   ]
  },
  {
   "cell_type": "markdown",
   "metadata": {},
   "source": [
    "### 4. Train and test on all of the events:"
   ]
  },
  {
   "cell_type": "code",
   "execution_count": 32,
   "metadata": {
    "collapsed": false
   },
   "outputs": [
    {
     "name": "stdout",
     "output_type": "stream",
     "text": [
      "(4082, 111) (1365, 111) (4082,) (1365,)\n",
      "y_train bincount: [ 0.66438021  0.33561979]\n",
      "y_test bincount: [ 0.63882784  0.36117216]\n",
      "Decision_Tree_Classifier train accuracy: 1.0\n",
      "Decision_Tree_Classifier test accuracy: 0.681318681319\n",
      "\n",
      "Gaussian_Process_Classifier train accuracy: 1.0\n",
      "Gaussian_Process_Classifier test accuracy: 0.65347985348\n",
      "\n",
      "KNN_with_k=5 train accuracy: 0.802792748653\n",
      "KNN_with_k=5 test accuracy: 0.679853479853\n",
      "\n",
      "Random_Forest_Classifier_n=100_maxDepth=3 train accuracy: 0.68765311122\n",
      "Random_Forest_Classifier_n=100_maxDepth=3 test accuracy: 0.658608058608\n",
      "\n",
      "linear_SVM train accuracy: 0.692062714356\n",
      "linear_SVM test accuracy: 0.652014652015\n",
      "\n",
      "SVM_with_RBF_kernel train accuracy: 0.823370896619\n",
      "SVM_with_RBF_kernel test accuracy: 0.688644688645\n",
      "\n",
      "SVM_with_sigmoid_kernel train accuracy: 0.621509064184\n",
      "SVM_with_sigmoid_kernel test accuracy: 0.604395604396\n",
      "\n",
      "AdaBoost_n=100 train accuracy: 0.789563939245\n",
      "AdaBoost_n=100 test accuracy: 0.728937728938\n",
      "\n",
      "LinearSVC_with_L1_Regularization train accuracy: 0.699167074963\n",
      "LinearSVC_with_L1_Regularization test accuracy: 0.660805860806\n",
      "\n"
     ]
    }
   ],
   "source": [
    "X_train, X_test, y_train, y_test=split_train_and_test_data(events,events)\n",
    "test_models(models,X_train, X_test, y_train, y_test)"
   ]
  },
  {
   "cell_type": "markdown",
   "metadata": {},
   "source": [
    "### 5. Train on all of the events except *germanwings-crash* event and test on *germanwings-crash* event:"
   ]
  },
  {
   "cell_type": "code",
   "execution_count": 35,
   "metadata": {
    "collapsed": false
   },
   "outputs": [
    {
     "name": "stdout",
     "output_type": "stream",
     "text": [
      "(5042, 111) (405, 111) (5042,) (405,)\n",
      "y_train bincount: [ 0.67056724  0.32943276]\n",
      "y_test bincount: [ 0.50123457  0.49876543]\n",
      "Decision_Tree_Classifier train accuracy: 1.0\n",
      "Decision_Tree_Classifier test accuracy: 0.518518518519\n",
      "\n",
      "Gaussian_Process_Classifier train accuracy: 1.0\n",
      "Gaussian_Process_Classifier test accuracy: 0.493827160494\n",
      "\n",
      "KNN_with_k=5 train accuracy: 0.804046013487\n",
      "KNN_with_k=5 test accuracy: 0.511111111111\n",
      "\n",
      "Random_Forest_Classifier_n=100_maxDepth=3 train accuracy: 0.704680682269\n",
      "Random_Forest_Classifier_n=100_maxDepth=3 test accuracy: 0.501234567901\n",
      "\n",
      "linear_SVM train accuracy: 0.692383974613\n",
      "linear_SVM test accuracy: 0.553086419753\n",
      "\n",
      "SVM_with_RBF_kernel train accuracy: 0.821697738992\n",
      "SVM_with_RBF_kernel test accuracy: 0.483950617284\n",
      "\n",
      "SVM_with_sigmoid_kernel train accuracy: 0.638040460135\n",
      "SVM_with_sigmoid_kernel test accuracy: 0.513580246914\n",
      "\n",
      "AdaBoost_n=100 train accuracy: 0.794922649742\n",
      "AdaBoost_n=100 test accuracy: 0.483950617284\n",
      "\n",
      "LinearSVC_with_L1_Regularization train accuracy: 0.706862356208\n",
      "LinearSVC_with_L1_Regularization test accuracy: 0.558024691358\n",
      "\n"
     ]
    }
   ],
   "source": [
    "X_train, X_test, y_train, y_test=split_train_and_test_data([\"sydneysiege\",\"ottawashooting\",\"ferguson\",\"charliehebdo\"]\n",
    "                                    ,[\"germanwings-crash\"])\n",
    "test_models(models,X_train, X_test, y_train, y_test)"
   ]
  },
  {
   "cell_type": "markdown",
   "metadata": {},
   "source": [
    "### 6. Train on all of the events and test on *ottawashooting* event:"
   ]
  },
  {
   "cell_type": "code",
   "execution_count": 36,
   "metadata": {
    "collapsed": false
   },
   "outputs": [
    {
     "name": "stdout",
     "output_type": "stream",
     "text": [
      "(5232, 111) (215, 111) (5232,) (215,)\n",
      "y_train bincount: [ 0.66704893  0.33295107]\n",
      "y_test bincount: [ 0.4372093  0.5627907]\n",
      "Decision_Tree_Classifier train accuracy: 1.0\n",
      "Decision_Tree_Classifier test accuracy: 0.613953488372\n",
      "\n",
      "Gaussian_Process_Classifier train accuracy: 1.0\n",
      "Gaussian_Process_Classifier test accuracy: 0.613953488372\n",
      "\n",
      "KNN_with_k=5 train accuracy: 0.799694189602\n",
      "KNN_with_k=5 test accuracy: 0.595348837209\n",
      "\n",
      "Random_Forest_Classifier_n=100_maxDepth=3 train accuracy: 0.682148318043\n",
      "Random_Forest_Classifier_n=100_maxDepth=3 test accuracy: 0.497674418605\n",
      "\n",
      "linear_SVM train accuracy: 0.688073394495\n",
      "linear_SVM test accuracy: 0.479069767442\n",
      "\n",
      "SVM_with_RBF_kernel train accuracy: 0.820718654434\n",
      "SVM_with_RBF_kernel test accuracy: 0.6\n",
      "\n",
      "SVM_with_sigmoid_kernel train accuracy: 0.626720183486\n",
      "SVM_with_sigmoid_kernel test accuracy: 0.46511627907\n",
      "\n",
      "AdaBoost_n=100 train accuracy: 0.786697247706\n",
      "AdaBoost_n=100 test accuracy: 0.623255813953\n",
      "\n",
      "LinearSVC_with_L1_Regularization train accuracy: 0.700879204893\n",
      "LinearSVC_with_L1_Regularization test accuracy: 0.502325581395\n",
      "\n"
     ]
    }
   ],
   "source": [
    "X_train, X_test, y_train, y_test=split_train_and_test_data(events\n",
    "                                    ,[\"ottawashooting\"])\n",
    "test_models(models,X_train, X_test, y_train, y_test)"
   ]
  },
  {
   "cell_type": "markdown",
   "metadata": {},
   "source": [
    "### 7. Train on all of the events except *ferguson* event and test on *ferguson* event:"
   ]
  },
  {
   "cell_type": "code",
   "execution_count": 37,
   "metadata": {
    "collapsed": false
   },
   "outputs": [
    {
     "name": "stdout",
     "output_type": "stream",
     "text": [
      "(4437, 111) (1010, 111) (4437,) (1010,)\n",
      "y_train bincount: [ 0.63804372  0.36195628]\n",
      "y_test bincount: [ 0.74554455  0.25445545]\n",
      "Decision_Tree_Classifier train accuracy: 1.0\n",
      "Decision_Tree_Classifier test accuracy: 0.493069306931\n",
      "\n",
      "Gaussian_Process_Classifier train accuracy: 1.0\n",
      "Gaussian_Process_Classifier test accuracy: 0.50198019802\n",
      "\n",
      "KNN_with_k=5 train accuracy: 0.794230335812\n",
      "KNN_with_k=5 test accuracy: 0.552475247525\n",
      "\n",
      "Random_Forest_Classifier_n=100_maxDepth=3 train accuracy: 0.709939148073\n",
      "Random_Forest_Classifier_n=100_maxDepth=3 test accuracy: 0.60495049505\n",
      "\n",
      "linear_SVM train accuracy: 0.686499887311\n",
      "linear_SVM test accuracy: 0.661386138614\n",
      "\n",
      "SVM_with_RBF_kernel train accuracy: 0.830290736984\n",
      "SVM_with_RBF_kernel test accuracy: 0.666336633663\n",
      "\n",
      "SVM_with_sigmoid_kernel train accuracy: 0.599729546991\n",
      "SVM_with_sigmoid_kernel test accuracy: 0.580198019802\n",
      "\n",
      "AdaBoost_n=100 train accuracy: 0.788145143115\n",
      "AdaBoost_n=100 test accuracy: 0.49900990099\n",
      "\n",
      "LinearSVC_with_L1_Regularization train accuracy: 0.691232814965\n",
      "LinearSVC_with_L1_Regularization test accuracy: 0.635643564356\n",
      "\n"
     ]
    }
   ],
   "source": [
    "X_train, X_test, y_train, y_test=split_train_and_test_data([\"germanwings-crash\",\"sydneysiege\",\"ottawashooting\",\"charliehebdo\"]\n",
    "                                    ,[\"ferguson\"])\n",
    "test_models(models,X_train, X_test, y_train, y_test)"
   ]
  },
  {
   "cell_type": "markdown",
   "metadata": {},
   "source": [
    "## Feature selection based on the weight of the LinearSVC_with_L1_Regularization model\n",
    "We find the most important features as the features that have the 15 most negative weights in the Linear SVM and the 15 most positive weights in the Linear SVM."
   ]
  },
  {
   "cell_type": "code",
   "execution_count": 41,
   "metadata": {
    "collapsed": false,
    "scrolled": true
   },
   "outputs": [],
   "source": [
    "X_train, X_test, y_train, y_test=split_train_and_test_data([\"charliehebdo\"]\n",
    "                                    ,[\"ferguson\"])\n",
    "model=models['linear_SVM']\n",
    "model.fit(X_train,y_train)\n",
    "plt.figure()\n",
    "plt.title(\"Linear-SVM Weights identifting most important features for the 15 most negative weights\")\n",
    "labels = events_threads[\"ferguson\"][\"columns\"].values\n",
    "coefs=model.coef_.flatten()\n",
    "sorted_labels = [label for _,label in sorted(zip(coefs,labels), key=lambda pair: pair[0])]\n",
    "sorted_coefs=np.sort(coefs)\n",
    "ax = sns.barplot(y=sorted_labels[:15], x=sorted_coefs[:15], palette=\"Set2\")\n",
    "ax.set(xlabel=\"Linear-SVM Weights\", ylabel=\"Feature\")\n",
    "plt.show()\n",
    "\n",
    "plt.figure()\n",
    "plt.title(\"Linear-SVM Weights identifting most important features for the 15 most positive weights\")\n",
    "ax = sns.barplot(y=sorted_labels[-15:], x=sorted_coefs[-15:], palette=\"Set2\")\n",
    "ax.set(xlabel=\"Linear-SVM Weights\", ylabel=\"Feature\")\n",
    "plt.show()"
   ]
  },
  {
   "cell_type": "code",
   "execution_count": null,
   "metadata": {
    "collapsed": true
   },
   "outputs": [],
   "source": []
  },
  {
   "cell_type": "code",
   "execution_count": null,
   "metadata": {
    "collapsed": true
   },
   "outputs": [],
   "source": []
  }
 ],
 "metadata": {
  "kernelspec": {
   "display_name": "Python 3",
   "language": "python",
   "name": "python3"
  },
  "language_info": {
   "codemirror_mode": {
    "name": "ipython",
    "version": 3
   },
   "file_extension": ".py",
   "mimetype": "text/x-python",
   "name": "python",
   "nbconvert_exporter": "python",
   "pygments_lexer": "ipython3",
   "version": "3.5.4"
  }
 },
 "nbformat": 4,
 "nbformat_minor": 0
}
