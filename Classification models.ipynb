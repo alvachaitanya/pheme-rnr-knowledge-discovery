{
 "cells": [
  {
   "cell_type": "code",
   "execution_count": 1,
   "metadata": {
    "collapsed": true
   },
   "outputs": [],
   "source": [
    "# Load dependencies for this Jupyter Notebook\n",
    "import pandas as pd\n",
    "import time\n",
    "import numpy as np\n",
    "from functools import reduce\n",
    "from lib.util import fetch_tweets, to_unix_tmsp, fetch_X\n",
    "\n",
    "#Train and Test preprocessing\n",
    "from sklearn.model_selection import train_test_split\n",
    "from sklearn import preprocessing\n",
    "\n",
    "#Classifiers:\n",
    "from sklearn import svm\n",
    "from sklearn.tree import DecisionTreeClassifier\n",
    "from sklearn.ensemble import RandomForestClassifier, AdaBoostClassifier\n",
    "from sklearn.neighbors import KNeighborsClassifier\n",
    "from sklearn.gaussian_process import GaussianProcessClassifier\n",
    "from sklearn.gaussian_process import GaussianProcessClassifier\n",
    "from sklearn.gaussian_process.kernels import RBF"
   ]
  },
  {
   "cell_type": "markdown",
   "metadata": {},
   "source": [
    "### Read CSV file for thread level features and separate is_rumor tag with data:"
   ]
  },
  {
   "cell_type": "code",
   "execution_count": 2,
   "metadata": {
    "collapsed": false
   },
   "outputs": [
    {
     "name": "stdout",
     "output_type": "stream",
     "text": [
      "['Unnamed: 0' 'thread' 'user.verified' 'thread_length' 'hashtags_count'\n",
      " 'user.default_pic' 'urls_count' 'favorite_count' 'has_smile_emoji'\n",
      " 'retweet_count' 'user.has_bg_img' 'user.tweets_count'\n",
      " 'src.followers_count' 'src.listed_count' 'src.user_verified' 'created'\n",
      " 'src.created_at' 'src.tweets_total' 'first_resp' 'last_resp' 'resp_var'\n",
      " 'time_to_first_resp' 'time_to_last_resp']\n"
     ]
    }
   ],
   "source": [
    "fn = \"data/threads/germanwings-crash.csv\"\n",
    "gw_thrds=fetch_X(fn)\n",
    "gw_thrds_rumortags=gw_thrds[\"is_rumor\"]\n",
    "gw_thrds_without_rumor_tag=gw_thrds.drop(['is_rumor'], axis=1)\n",
    "\n",
    "print(gw_thrds_without_rumor_tag.columns.values)\n"
   ]
  },
  {
   "cell_type": "markdown",
   "metadata": {},
   "source": [
    "### Used functions:"
   ]
  },
  {
   "cell_type": "code",
   "execution_count": 3,
   "metadata": {
    "collapsed": true
   },
   "outputs": [],
   "source": [
    "def convertTrueFalseTo01(X):\n",
    "    X[X==True]=1.0\n",
    "    X[X==False]=0.0\n",
    "    #X[X=='True']=1.0\n",
    "    #X[X=='False']=0.0\n",
    "    return X\n",
    "\n",
    "def standardize_cols(X, mu=None, sigma=None):\n",
    "    # Standardize each column with mean 0 and variance 1\n",
    "    n_rows, n_cols = X.shape\n",
    "\n",
    "    if mu is None:\n",
    "        mu = np.mean(X, axis=0)\n",
    "\n",
    "    if sigma is None:\n",
    "        sigma = np.std(X, axis=0)\n",
    "        sigma[sigma < 1e-8] = 1.\n",
    "\n",
    "    return (X - mu) / sigma, mu, sigma\n"
   ]
  },
  {
   "cell_type": "markdown",
   "metadata": {},
   "source": [
    "### Data Preprocessing:"
   ]
  },
  {
   "cell_type": "code",
   "execution_count": 4,
   "metadata": {
    "collapsed": false
   },
   "outputs": [
    {
     "name": "stdout",
     "output_type": "stream",
     "text": [
      "(405, 22)\n"
     ]
    }
   ],
   "source": [
    "gw_thrds_values=gw_thrds_without_rumor_tag.values\n",
    "n,d=gw_thrds_values.shape\n",
    "gw_thrds_values=convertTrueFalseTo01(gw_thrds_values[:,1:d])\n",
    "n,d=gw_thrds_values.shape\n",
    "\n",
    "gw_thrds_rumortags_values=convertTrueFalseTo01(gw_thrds_rumortags.values)\n",
    "gw_thrds_values,_,_=standardize_cols(gw_thrds_values.astype(float))\n",
    "\n",
    "n,d=gw_thrds_values.shape\n",
    "print(gw_thrds_values.shape)"
   ]
  },
  {
   "cell_type": "markdown",
   "metadata": {},
   "source": [
    "## Running some classifiers\n",
    "### Train and Test data separation:"
   ]
  },
  {
   "cell_type": "code",
   "execution_count": 5,
   "metadata": {
    "collapsed": false
   },
   "outputs": [
    {
     "name": "stdout",
     "output_type": "stream",
     "text": [
      "(303, 22) (102, 22) (303,)\n",
      "y_train bincount: [0.49834983 0.50165017]\n",
      "y_test bincount: [0.50980392 0.49019608]\n"
     ]
    }
   ],
   "source": [
    "X_train, X_test, y_train, y_test = train_test_split(gw_thrds_values, gw_thrds_rumortags_values, test_size=0.25, random_state=45)\n",
    "le = preprocessing.LabelEncoder()\n",
    "le.fit(y_train)\n",
    "y_train=le.transform(y_train)\n",
    "y_test=le.transform(y_test)\n",
    "print(X_train.shape,X_test.shape,y_train.shape)\n",
    "print('y_train bincount:', np.bincount(y_train)/np.sum(np.bincount(y_train)))\n",
    "print('y_test bincount:', np.bincount(y_test)/np.sum(np.bincount(y_test)))"
   ]
  },
  {
   "cell_type": "code",
   "execution_count": 6,
   "metadata": {
    "collapsed": true
   },
   "outputs": [],
   "source": [
    "def test_model(model):\n",
    "    model.fit(X_train,y_train)\n",
    "    y_test_hat=model.predict(X_test)\n",
    "    print('train error:', np.mean(model.predict(X_train)==y_train))\n",
    "    print('test error:', np.mean(y_test_hat==y_test))"
   ]
  },
  {
   "cell_type": "markdown",
   "metadata": {},
   "source": [
    "### SVM.SVC:"
   ]
  },
  {
   "cell_type": "code",
   "execution_count": 7,
   "metadata": {
    "collapsed": false
   },
   "outputs": [
    {
     "name": "stdout",
     "output_type": "stream",
     "text": [
      "train error: 0.6798679867986799\n",
      "test error: 0.5980392156862745\n"
     ]
    }
   ],
   "source": [
    "model = svm.SVC(gamma='scale', kernel='linear')\n",
    "test_model(model)"
   ]
  },
  {
   "cell_type": "code",
   "execution_count": 8,
   "metadata": {
    "collapsed": false
   },
   "outputs": [
    {
     "name": "stdout",
     "output_type": "stream",
     "text": [
      "train error: 0.7227722772277227\n",
      "test error: 0.5882352941176471\n"
     ]
    }
   ],
   "source": [
    "model = svm.SVC(gamma='scale', kernel='rbf')\n",
    "test_model(model)"
   ]
  },
  {
   "cell_type": "code",
   "execution_count": 9,
   "metadata": {
    "collapsed": false
   },
   "outputs": [
    {
     "name": "stdout",
     "output_type": "stream",
     "text": [
      "train error: 0.5742574257425742\n",
      "test error: 0.6372549019607843\n"
     ]
    }
   ],
   "source": [
    "model = svm.SVC(gamma='scale', kernel='sigmoid')\n",
    "test_model(model)"
   ]
  },
  {
   "cell_type": "code",
   "execution_count": 10,
   "metadata": {
    "collapsed": false
   },
   "outputs": [
    {
     "name": "stdout",
     "output_type": "stream",
     "text": [
      "train error: 0.6567656765676567\n",
      "test error: 0.5588235294117647\n"
     ]
    }
   ],
   "source": [
    "model = svm.SVC(gamma='scale', kernel='poly')\n",
    "test_model(model)"
   ]
  },
  {
   "cell_type": "code",
   "execution_count": 11,
   "metadata": {
    "collapsed": false
   },
   "outputs": [
    {
     "name": "stdout",
     "output_type": "stream",
     "text": [
      "train error: 0.7458745874587459\n",
      "test error: 0.5980392156862745\n"
     ]
    }
   ],
   "source": [
    "model = KNeighborsClassifier(n_neighbors=5)\n",
    "test_model(model)"
   ]
  },
  {
   "cell_type": "code",
   "execution_count": 12,
   "metadata": {
    "collapsed": false
   },
   "outputs": [
    {
     "name": "stdout",
     "output_type": "stream",
     "text": [
      "train error: 1.0\n",
      "test error: 0.5980392156862745\n"
     ]
    }
   ],
   "source": [
    "model=DecisionTreeClassifier(random_state=0)\n",
    "test_model(model)"
   ]
  },
  {
   "cell_type": "code",
   "execution_count": 13,
   "metadata": {
    "collapsed": false
   },
   "outputs": [
    {
     "name": "stdout",
     "output_type": "stream",
     "text": [
      "train error: 0.8283828382838284\n",
      "test error: 0.6568627450980392\n"
     ]
    }
   ],
   "source": [
    "model=RandomForestClassifier(n_estimators=100, max_depth=3, random_state=4)\n",
    "test_model(model)"
   ]
  },
  {
   "cell_type": "code",
   "execution_count": 14,
   "metadata": {
    "collapsed": false
   },
   "outputs": [
    {
     "name": "stdout",
     "output_type": "stream",
     "text": [
      "train error: 0.9834983498349835\n",
      "test error: 0.6764705882352942\n"
     ]
    }
   ],
   "source": [
    "model=AdaBoostClassifier(n_estimators=100)\n",
    "test_model(model)"
   ]
  },
  {
   "cell_type": "code",
   "execution_count": 15,
   "metadata": {
    "collapsed": false
   },
   "outputs": [
    {
     "name": "stdout",
     "output_type": "stream",
     "text": [
      "train error: 0.7557755775577558\n",
      "test error: 0.5\n"
     ]
    }
   ],
   "source": [
    "model=GaussianProcessClassifier(1.0 * RBF(1.0))\n",
    "test_model(model)"
   ]
  },
  {
   "cell_type": "code",
   "execution_count": null,
   "metadata": {
    "collapsed": true
   },
   "outputs": [],
   "source": []
  },
  {
   "cell_type": "code",
   "execution_count": null,
   "metadata": {
    "collapsed": true
   },
   "outputs": [],
   "source": []
  }
 ],
 "metadata": {
  "kernelspec": {
   "display_name": "Python 3",
   "language": "python",
   "name": "python3"
  },
  "language_info": {
   "codemirror_mode": {
    "name": "ipython",
    "version": 3
   },
   "file_extension": ".py",
   "mimetype": "text/x-python",
   "name": "python",
   "nbconvert_exporter": "python",
   "pygments_lexer": "ipython3",
   "version": "3.5.4"
  }
 },
 "nbformat": 4,
 "nbformat_minor": 0
}
