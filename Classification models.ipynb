{
 "cells": [
  {
   "cell_type": "code",
   "execution_count": 1,
   "metadata": {
    "collapsed": true
   },
   "outputs": [],
   "source": [
    "# Load dependencies for this Jupyter Notebook\n",
    "import pandas as pd\n",
    "import time\n",
    "import numpy as np\n",
    "from functools import reduce\n",
    "from lib.util import fetch_tweets, to_unix_tmsp, fetch_X\n",
    "\n",
    "#Train and Test preprocessing\n",
    "from sklearn.model_selection import train_test_split\n",
    "from sklearn import preprocessing\n",
    "\n",
    "#Classifiers:\n",
    "from sklearn import svm\n",
    "from sklearn.tree import DecisionTreeClassifier\n",
    "from sklearn.ensemble import RandomForestClassifier, AdaBoostClassifier\n",
    "from sklearn.neighbors import KNeighborsClassifier\n",
    "from sklearn.gaussian_process import GaussianProcessClassifier\n",
    "from sklearn.gaussian_process import GaussianProcessClassifier\n",
    "from sklearn.gaussian_process.kernels import RBF"
   ]
  },
  {
   "cell_type": "markdown",
   "metadata": {},
   "source": [
    "### Read CSV file for thread level features and separate is_rumor tag with data:"
   ]
  },
  {
   "cell_type": "code",
   "execution_count": 2,
   "metadata": {
    "collapsed": false
   },
   "outputs": [
    {
     "name": "stdout",
     "output_type": "stream",
     "text": [
      "['thread' 'has_coords_mean' 'has_coords_sum' 'has_coords_var'\n",
      " 'Pronoun_mean' 'Pronoun_sum' 'Pronoun_var' 'thread_length'\n",
      " 'hashtags_count_mean' 'hashtags_count_sum' 'hashtags_count_var'\n",
      " 'hashtags_count_shared' 'positivewordcount_mean' 'positivewordcount_sum'\n",
      " 'positivewordcount_var' 'user.default_pic_mean' 'user.default_pic_sum'\n",
      " 'user.default_pic_var' 'favorite_count_mean' 'favorite_count_sum'\n",
      " 'favorite_count_var' 'has_quest_mean' 'has_quest_sum' 'has_quest_var'\n",
      " 'hasperiod_mean' 'hasperiod_sum' 'hasperiod_var'\n",
      " 'has_quest_or_exclaim_mean' 'has_quest_or_exclaim_sum'\n",
      " 'has_quest_or_exclaim_var' 'user.profile_sbcolor_mean'\n",
      " 'user.profile_sbcolor_sum' 'user.profile_sbcolor_var'\n",
      " 'has_smile_emoji_mean' 'has_smile_emoji_sum' 'has_smile_emoji_var'\n",
      " 'negativewordcount_mean' 'negativewordcount_sum' 'negativewordcount_var'\n",
      " 'user_mentions_mean' 'user_mentions_sum' 'user_mentions_var'\n",
      " 'sentimentscore_mean' 'sentimentscore_sum' 'sentimentscore_var'\n",
      " 'sensitive_mean' 'sensitive_sum' 'sensitive_var' 'urls_count_mean'\n",
      " 'urls_count_sum' 'urls_count_var' 'Adjective_mean' 'Adjective_sum'\n",
      " 'Adjective_var' 'capitalratio_mean' 'capitalratio_sum' 'capitalratio_var'\n",
      " 'Adverb_mean' 'Adverb_sum' 'Adverb_var' 'user.tweets_count_mean'\n",
      " 'user.tweets_count_sum' 'user.tweets_count_var' 'user.verified_mean'\n",
      " 'user.verified_sum' 'user.verified_var' 'retweet_count_mean'\n",
      " 'retweet_count_sum' 'retweet_count_var' 'contentlength_mean'\n",
      " 'contentlength_sum' 'contentlength_var' 'Noun_mean' 'Noun_sum' 'Noun_var'\n",
      " 'user.handle_length_mean' 'user.handle_length_sum'\n",
      " 'user.handle_length_var' 'number_punct_mean' 'number_punct_sum'\n",
      " 'number_punct_var' 'user.name_length_mean' 'user.name_length_sum'\n",
      " 'user.name_length_var' 'user.has_bg_img_mean' 'user.has_bg_img_sum'\n",
      " 'user.has_bg_img_var' 'user.profile_bgcolor_mean'\n",
      " 'user.profile_bgcolor_sum' 'user.profile_bgcolor_var' 'media_count_mean'\n",
      " 'media_count_sum' 'media_count_var' 'has_exclaim_mean' 'has_exclaim_sum'\n",
      " 'has_exclaim_var' 'has_place_mean' 'has_place_sum' 'has_place_var'\n",
      " 'Verb_mean' 'Verb_sum' 'Verb_var' 'src.followers_count'\n",
      " 'src.listed_count' 'src.user_verified' 'created' 'src.created_at'\n",
      " 'src.tweets_total' 'first_resp' 'last_resp' 'resp_var' 'component_count'\n",
      " 'largest_cc_diameter' 'time_to_first_resp' 'time_to_last_resp']\n"
     ]
    }
   ],
   "source": [
    "fn = \"data/threads/germanwings-crash.csv\"\n",
    "gw_thrds=fetch_X(fn)\n",
    "gw_thrds_rumortags=gw_thrds[\"is_rumor\"]\n",
    "gw_thrds_without_rumor_tag=gw_thrds.drop(['is_rumor'], axis=1)\n",
    "\n",
    "print(gw_thrds_without_rumor_tag.columns.values)\n"
   ]
  },
  {
   "cell_type": "markdown",
   "metadata": {},
   "source": [
    "### Used functions:"
   ]
  },
  {
   "cell_type": "code",
   "execution_count": 3,
   "metadata": {
    "collapsed": true
   },
   "outputs": [],
   "source": [
    "def convertTrueFalseTo01(X):\n",
    "    X[X==True]=1.0\n",
    "    X[X==False]=0.0\n",
    "    #X[X=='True']=1.0\n",
    "    #X[X=='False']=0.0\n",
    "    return X\n",
    "\n",
    "def standardize_cols(X, mu=None, sigma=None):\n",
    "    # Standardize each column with mean 0 and variance 1\n",
    "    n_rows, n_cols = X.shape\n",
    "\n",
    "    if mu is None:\n",
    "        mu = np.mean(X, axis=0)\n",
    "\n",
    "    if sigma is None:\n",
    "        sigma = np.std(X, axis=0)\n",
    "        sigma[sigma < 1e-8] = 1.\n",
    "\n",
    "    return (X - mu) / sigma, mu, sigma\n"
   ]
  },
  {
   "cell_type": "markdown",
   "metadata": {},
   "source": [
    "### Data Preprocessing:"
   ]
  },
  {
   "cell_type": "code",
   "execution_count": 4,
   "metadata": {
    "collapsed": false
   },
   "outputs": [
    {
     "name": "stdout",
     "output_type": "stream",
     "text": [
      "(405, 114)\n"
     ]
    }
   ],
   "source": [
    "gw_thrds_values=gw_thrds_without_rumor_tag.values\n",
    "n,d=gw_thrds_values.shape\n",
    "gw_thrds_values=convertTrueFalseTo01(gw_thrds_values[:,1:d])\n",
    "n,d=gw_thrds_values.shape\n",
    "\n",
    "gw_thrds_rumortags_values=convertTrueFalseTo01(gw_thrds_rumortags.values)\n",
    "gw_thrds_values,_,_=standardize_cols(gw_thrds_values.astype(float))\n",
    "\n",
    "n,d=gw_thrds_values.shape\n",
    "print(gw_thrds_values.shape)"
   ]
  },
  {
   "cell_type": "markdown",
   "metadata": {},
   "source": [
    "## Running some classifiers\n",
    "### Train and Test data separation:"
   ]
  },
  {
   "cell_type": "code",
   "execution_count": 5,
   "metadata": {
    "collapsed": false
   },
   "outputs": [
    {
     "name": "stdout",
     "output_type": "stream",
     "text": [
      "(303, 114) (102, 114) (303,)\n",
      "y_train bincount: [0.49834983 0.50165017]\n",
      "y_test bincount: [0.50980392 0.49019608]\n"
     ]
    }
   ],
   "source": [
    "X_train, X_test, y_train, y_test = train_test_split(gw_thrds_values, gw_thrds_rumortags_values, test_size=0.25, random_state=45)\n",
    "le = preprocessing.LabelEncoder()\n",
    "le.fit(y_train)\n",
    "y_train=le.transform(y_train)\n",
    "y_test=le.transform(y_test)\n",
    "print(X_train.shape,X_test.shape,y_train.shape)\n",
    "print('y_train bincount:', np.bincount(y_train)/np.sum(np.bincount(y_train)))\n",
    "print('y_test bincount:', np.bincount(y_test)/np.sum(np.bincount(y_test)))"
   ]
  },
  {
   "cell_type": "code",
   "execution_count": 6,
   "metadata": {
    "collapsed": true
   },
   "outputs": [],
   "source": [
    "def test_models(models):\n",
    "    for model_name in models:\n",
    "        model=models[model_name]\n",
    "        model.fit(X_train,y_train)\n",
    "        y_test_hat=model.predict(X_test)\n",
    "        print('%s train accuracy:' % model_name, np.mean(model.predict(X_train)==y_train))\n",
    "        print('%s test accuracy:' % model_name, np.mean(y_test_hat==y_test))\n",
    "        print()"
   ]
  },
  {
   "cell_type": "markdown",
   "metadata": {},
   "source": [
    "### SVM.SVC:"
   ]
  },
  {
   "cell_type": "code",
   "execution_count": 7,
   "metadata": {
    "collapsed": false
   },
   "outputs": [],
   "source": [
    "models={\n",
    "    'linear_SVM':svm.SVC(gamma='scale', kernel='linear'),\n",
    "    'SVM_with_RBF_kernel': svm.SVC(gamma='scale', kernel='rbf'),\n",
    "    'SVM_with_sigmoid_kernel' : svm.SVC(gamma='scale', kernel='sigmoid'),\n",
    "    'KNN_with_k=5':KNeighborsClassifier(n_neighbors=5),\n",
    "    'Decision_Tree_Classifier':DecisionTreeClassifier(random_state=0),\n",
    "    'Random_Forest_Classifier_n=100_maxDepth=3':RandomForestClassifier(n_estimators=100, max_depth=3, random_state=4),\n",
    "    'AdaBoost_n=100':AdaBoostClassifier(n_estimators=100),\n",
    "    'Gaussian_Process_Classifier':GaussianProcessClassifier(1.0 * RBF(1.0)),\n",
    "}"
   ]
  },
  {
   "cell_type": "code",
   "execution_count": 8,
   "metadata": {
    "collapsed": false
   },
   "outputs": [
    {
     "name": "stdout",
     "output_type": "stream",
     "text": [
      "Random_Forest_Classifier_n=100_maxDepth=3 train accuracy: 0.8679867986798679\n",
      "Random_Forest_Classifier_n=100_maxDepth=3 test accuracy: 0.6764705882352942\n",
      "\n",
      "AdaBoost_n=100 train accuracy: 1.0\n",
      "AdaBoost_n=100 test accuracy: 0.6862745098039216\n",
      "\n",
      "SVM_with_RBF_kernel train accuracy: 0.8943894389438944\n",
      "SVM_with_RBF_kernel test accuracy: 0.6176470588235294\n",
      "\n",
      "Decision_Tree_Classifier train accuracy: 1.0\n",
      "Decision_Tree_Classifier test accuracy: 0.6568627450980392\n",
      "\n",
      "KNN_with_k=5 train accuracy: 0.7491749174917491\n",
      "KNN_with_k=5 test accuracy: 0.5196078431372549\n",
      "\n",
      "SVM_with_sigmoid_kernel train accuracy: 0.6270627062706271\n",
      "SVM_with_sigmoid_kernel test accuracy: 0.5784313725490197\n",
      "\n",
      "Gaussian_Process_Classifier train accuracy: 1.0\n",
      "Gaussian_Process_Classifier test accuracy: 0.6176470588235294\n",
      "\n",
      "linear_SVM train accuracy: 0.8976897689768977\n",
      "linear_SVM test accuracy: 0.6176470588235294\n",
      "\n"
     ]
    }
   ],
   "source": [
    "test_models(models)"
   ]
  },
  {
   "cell_type": "code",
   "execution_count": null,
   "metadata": {
    "collapsed": true
   },
   "outputs": [],
   "source": []
  }
 ],
 "metadata": {
  "kernelspec": {
   "display_name": "Python 3",
   "language": "python",
   "name": "python3"
  },
  "language_info": {
   "codemirror_mode": {
    "name": "ipython",
    "version": 3
   },
   "file_extension": ".py",
   "mimetype": "text/x-python",
   "name": "python",
   "nbconvert_exporter": "python",
   "pygments_lexer": "ipython3",
   "version": "3.5.4"
  }
 },
 "nbformat": 4,
 "nbformat_minor": 0
}
