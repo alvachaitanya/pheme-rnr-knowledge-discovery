{
 "cells": [
  {
   "cell_type": "code",
   "execution_count": 1,
   "metadata": {
    "collapsed": true
   },
   "outputs": [],
   "source": [
    "# Load dependencies for this Jupyter Notebook\n",
    "import pandas as pd\n",
    "import time\n",
    "import numpy as np\n",
    "from functools import reduce\n",
    "from lib.util import fetch_tweets, to_unix_tmsp, fetch_X\n",
    "\n",
    "#Train and Test preprocessing\n",
    "from sklearn.model_selection import train_test_split\n",
    "from sklearn import preprocessing\n",
    "\n",
    "#Classifiers:\n",
    "from sklearn import svm\n",
    "from sklearn.tree import DecisionTreeClassifier\n",
    "from sklearn.ensemble import RandomForestClassifier, AdaBoostClassifier\n",
    "from sklearn.neighbors import KNeighborsClassifier\n",
    "from sklearn.gaussian_process import GaussianProcessClassifier\n",
    "from sklearn.gaussian_process import GaussianProcessClassifier\n",
    "from sklearn.gaussian_process.kernels import RBF"
   ]
  },
  {
   "cell_type": "markdown",
   "metadata": {},
   "source": [
    "### Read CSV file for thread level features and separate is_rumor tag with data:"
   ]
  },
  {
   "cell_type": "code",
   "execution_count": 2,
   "metadata": {
    "collapsed": false
   },
   "outputs": [
    {
     "name": "stdout",
     "output_type": "stream",
     "text": [
      "['thread' 'user.profile_sbcolor_mean' 'user.profile_sbcolor_sum'\n",
      " 'user.profile_sbcolor_var' 'user.name_length_mean' 'user.name_length_sum'\n",
      " 'user.name_length_var' 'retweet_count_mean' 'retweet_count_sum'\n",
      " 'retweet_count_var' 'hasqmark_mean' 'hasqmark_sum' 'hasqmark_var'\n",
      " 'Adjective_mean' 'Adjective_sum' 'Adjective_var' 'has_place_mean'\n",
      " 'has_place_sum' 'has_place_var' 'has_smile_emoji_mean'\n",
      " 'has_smile_emoji_sum' 'has_smile_emoji_var' 'thread_length'\n",
      " 'positivewordcount_mean' 'positivewordcount_sum' 'positivewordcount_var'\n",
      " 'user.profile_bgcolor_mean' 'user.profile_bgcolor_sum'\n",
      " 'user.profile_bgcolor_var' 'user.handle_length_mean'\n",
      " 'user.handle_length_sum' 'user.handle_length_var' 'number_punct_mean'\n",
      " 'number_punct_sum' 'number_punct_var' 'Verb_mean' 'Verb_sum' 'Verb_var'\n",
      " 'user.has_bg_img_mean' 'user.has_bg_img_sum' 'user.has_bg_img_var'\n",
      " 'hashtags_count_mean' 'hashtags_count_sum' 'hashtags_count_var'\n",
      " 'hashtags_count_shared' 'hasperiod_mean' 'hasperiod_sum' 'hasperiod_var'\n",
      " 'negativewordcount_mean' 'negativewordcount_sum' 'negativewordcount_var'\n",
      " 'has_quest_mean' 'has_quest_sum' 'has_quest_var' 'has_coords_mean'\n",
      " 'has_coords_sum' 'has_coords_var' 'Pronoun_mean' 'Pronoun_sum'\n",
      " 'Pronoun_var' 'favorite_count_mean' 'favorite_count_sum'\n",
      " 'favorite_count_var' 'user.default_pic_mean' 'user.default_pic_sum'\n",
      " 'user.default_pic_var' 'capitalratio_mean' 'capitalratio_sum'\n",
      " 'capitalratio_var' 'has_quest_or_exclaim_mean' 'has_quest_or_exclaim_sum'\n",
      " 'has_quest_or_exclaim_var' 'sentimentscore_mean' 'sentimentscore_sum'\n",
      " 'sentimentscore_var' 'has_exclaim_mean' 'has_exclaim_sum'\n",
      " 'has_exclaim_var' 'urls_count_mean' 'urls_count_sum' 'urls_count_var'\n",
      " 'Noun_mean' 'Noun_sum' 'Noun_var' 'user.tweets_count_mean'\n",
      " 'user.tweets_count_sum' 'user.tweets_count_var' 'sensitive_mean'\n",
      " 'sensitive_sum' 'sensitive_var' 'user.verified_mean' 'user.verified_sum'\n",
      " 'user.verified_var' 'hasemark_mean' 'hasemark_sum' 'hasemark_var'\n",
      " 'contentlength_mean' 'contentlength_sum' 'contentlength_var'\n",
      " 'user_mentions_mean' 'user_mentions_sum' 'user_mentions_var'\n",
      " 'media_count_mean' 'media_count_sum' 'media_count_var'\n",
      " 'src.followers_count' 'src.listed_count' 'src.user_verified' 'created'\n",
      " 'src.created_at' 'src.tweets_total' 'first_resp' 'last_resp' 'resp_var'\n",
      " 'component_count' 'largest_cc_diameter' 'time_to_first_resp'\n",
      " 'time_to_last_resp']\n"
     ]
    }
   ],
   "source": [
    "fn = \"data/threads/germanwings-crash.csv\"\n",
    "gw_thrds=fetch_X(fn)\n",
    "gw_thrds_rumortags=gw_thrds[\"is_rumor\"]\n",
    "gw_thrds_without_rumor_tag=gw_thrds.drop(['is_rumor'], axis=1)\n",
    "\n",
    "print(gw_thrds_without_rumor_tag.columns.values)\n"
   ]
  },
  {
   "cell_type": "markdown",
   "metadata": {},
   "source": [
    "### Used functions:"
   ]
  },
  {
   "cell_type": "code",
   "execution_count": 3,
   "metadata": {
    "collapsed": true
   },
   "outputs": [],
   "source": [
    "def convertTrueFalseTo01(X):\n",
    "    X[X==True]=1.0\n",
    "    X[X==False]=0.0\n",
    "    #X[X=='True']=1.0\n",
    "    #X[X=='False']=0.0\n",
    "    return X\n",
    "\n",
    "def standardize_cols(X, mu=None, sigma=None):\n",
    "    # Standardize each column with mean 0 and variance 1\n",
    "    n_rows, n_cols = X.shape\n",
    "\n",
    "    if mu is None:\n",
    "        mu = np.mean(X, axis=0)\n",
    "\n",
    "    if sigma is None:\n",
    "        sigma = np.std(X, axis=0)\n",
    "        sigma[sigma < 1e-8] = 1.\n",
    "\n",
    "    return (X - mu) / sigma, mu, sigma\n"
   ]
  },
  {
   "cell_type": "markdown",
   "metadata": {},
   "source": [
    "### Data Preprocessing:"
   ]
  },
  {
   "cell_type": "code",
   "execution_count": 4,
   "metadata": {
    "collapsed": false
   },
   "outputs": [
    {
     "name": "stdout",
     "output_type": "stream",
     "text": [
      "(405, 117)\n"
     ]
    }
   ],
   "source": [
    "gw_thrds_values=gw_thrds_without_rumor_tag.values\n",
    "n,d=gw_thrds_values.shape\n",
    "gw_thrds_values=convertTrueFalseTo01(gw_thrds_values[:,1:d])\n",
    "n,d=gw_thrds_values.shape\n",
    "\n",
    "gw_thrds_rumortags_values=convertTrueFalseTo01(gw_thrds_rumortags.values)\n",
    "gw_thrds_values,_,_=standardize_cols(gw_thrds_values.astype(float))\n",
    "\n",
    "n,d=gw_thrds_values.shape\n",
    "print(gw_thrds_values.shape)"
   ]
  },
  {
   "cell_type": "markdown",
   "metadata": {},
   "source": [
    "## Running some classifiers\n",
    "### Train and Test data separation:"
   ]
  },
  {
   "cell_type": "code",
   "execution_count": 5,
   "metadata": {
    "collapsed": false
   },
   "outputs": [
    {
     "name": "stdout",
     "output_type": "stream",
     "text": [
      "(303, 117) (102, 117) (303,)\n",
      "y_train bincount: [0.49834983 0.50165017]\n",
      "y_test bincount: [0.50980392 0.49019608]\n"
     ]
    }
   ],
   "source": [
    "X_train, X_test, y_train, y_test = train_test_split(gw_thrds_values, gw_thrds_rumortags_values, test_size=0.25, random_state=45)\n",
    "le = preprocessing.LabelEncoder()\n",
    "le.fit(y_train)\n",
    "y_train=le.transform(y_train)\n",
    "y_test=le.transform(y_test)\n",
    "print(X_train.shape,X_test.shape,y_train.shape)\n",
    "print('y_train bincount:', np.bincount(y_train)/np.sum(np.bincount(y_train)))\n",
    "print('y_test bincount:', np.bincount(y_test)/np.sum(np.bincount(y_test)))"
   ]
  },
  {
   "cell_type": "code",
   "execution_count": 6,
   "metadata": {
    "collapsed": true
   },
   "outputs": [],
   "source": [
    "def test_model(model):\n",
    "    model.fit(X_train,y_train)\n",
    "    y_test_hat=model.predict(X_test)\n",
    "    print('train accuracy:', np.mean(model.predict(X_train)==y_train))\n",
    "    print('test accuracy:', np.mean(y_test_hat==y_test))"
   ]
  },
  {
   "cell_type": "markdown",
   "metadata": {},
   "source": [
    "### SVM.SVC:"
   ]
  },
  {
   "cell_type": "code",
   "execution_count": 7,
   "metadata": {
    "collapsed": false
   },
   "outputs": [
    {
     "name": "stdout",
     "output_type": "stream",
     "text": [
      "train error: 0.8877887788778878\n",
      "test error: 0.6274509803921569\n"
     ]
    }
   ],
   "source": [
    "model = svm.SVC(gamma='scale', kernel='linear')\n",
    "test_model(model)"
   ]
  },
  {
   "cell_type": "code",
   "execution_count": 8,
   "metadata": {
    "collapsed": false
   },
   "outputs": [
    {
     "name": "stdout",
     "output_type": "stream",
     "text": [
      "train error: 0.8910891089108911\n",
      "test error: 0.6274509803921569\n"
     ]
    }
   ],
   "source": [
    "model = svm.SVC(gamma='scale', kernel='rbf')\n",
    "test_model(model)"
   ]
  },
  {
   "cell_type": "code",
   "execution_count": 9,
   "metadata": {
    "collapsed": false
   },
   "outputs": [
    {
     "name": "stdout",
     "output_type": "stream",
     "text": [
      "train error: 0.636963696369637\n",
      "test error: 0.5784313725490197\n"
     ]
    }
   ],
   "source": [
    "model = svm.SVC(gamma='scale', kernel='sigmoid')\n",
    "test_model(model)"
   ]
  },
  {
   "cell_type": "code",
   "execution_count": 10,
   "metadata": {
    "collapsed": false
   },
   "outputs": [
    {
     "name": "stdout",
     "output_type": "stream",
     "text": [
      "train error: 0.8316831683168316\n",
      "test error: 0.5784313725490197\n"
     ]
    }
   ],
   "source": [
    "model = svm.SVC(gamma='scale', kernel='poly')\n",
    "test_model(model)"
   ]
  },
  {
   "cell_type": "code",
   "execution_count": 11,
   "metadata": {
    "collapsed": false
   },
   "outputs": [
    {
     "name": "stdout",
     "output_type": "stream",
     "text": [
      "train error: 0.7524752475247525\n",
      "test error: 0.5196078431372549\n"
     ]
    }
   ],
   "source": [
    "model = KNeighborsClassifier(n_neighbors=5)\n",
    "test_model(model)"
   ]
  },
  {
   "cell_type": "code",
   "execution_count": 12,
   "metadata": {
    "collapsed": false
   },
   "outputs": [
    {
     "name": "stdout",
     "output_type": "stream",
     "text": [
      "train error: 1.0\n",
      "test error: 0.6078431372549019\n"
     ]
    }
   ],
   "source": [
    "model=DecisionTreeClassifier(random_state=0)\n",
    "test_model(model)"
   ]
  },
  {
   "cell_type": "code",
   "execution_count": 13,
   "metadata": {
    "collapsed": false
   },
   "outputs": [
    {
     "name": "stdout",
     "output_type": "stream",
     "text": [
      "train error: 0.8712871287128713\n",
      "test error: 0.6666666666666666\n"
     ]
    }
   ],
   "source": [
    "model=RandomForestClassifier(n_estimators=100, max_depth=3, random_state=4)\n",
    "test_model(model)"
   ]
  },
  {
   "cell_type": "code",
   "execution_count": 14,
   "metadata": {
    "collapsed": false
   },
   "outputs": [
    {
     "name": "stdout",
     "output_type": "stream",
     "text": [
      "train error: 1.0\n",
      "test error: 0.696078431372549\n"
     ]
    }
   ],
   "source": [
    "model=AdaBoostClassifier(n_estimators=100)\n",
    "test_model(model)"
   ]
  },
  {
   "cell_type": "code",
   "execution_count": 15,
   "metadata": {
    "collapsed": false
   },
   "outputs": [
    {
     "name": "stdout",
     "output_type": "stream",
     "text": [
      "train error: 1.0\n",
      "test error: 0.5882352941176471\n"
     ]
    }
   ],
   "source": [
    "model=GaussianProcessClassifier(1.0 * RBF(1.0))\n",
    "test_model(model)"
   ]
  },
  {
   "cell_type": "code",
   "execution_count": null,
   "metadata": {
    "collapsed": true
   },
   "outputs": [],
   "source": []
  },
  {
   "cell_type": "code",
   "execution_count": null,
   "metadata": {
    "collapsed": true
   },
   "outputs": [],
   "source": []
  }
 ],
 "metadata": {
  "kernelspec": {
   "display_name": "Python 3",
   "language": "python",
   "name": "python3"
  },
  "language_info": {
   "codemirror_mode": {
    "name": "ipython",
    "version": 3
   },
   "file_extension": ".py",
   "mimetype": "text/x-python",
   "name": "python",
   "nbconvert_exporter": "python",
   "pygments_lexer": "ipython3",
   "version": "3.5.4"
  }
 },
 "nbformat": 4,
 "nbformat_minor": 0
}
