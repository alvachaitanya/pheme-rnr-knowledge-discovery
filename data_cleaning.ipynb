{
 "cells": [
  {
   "cell_type": "markdown",
   "metadata": {},
   "source": [
    "# Parsing and Cleaning PHEME RNR Dataset Events"
   ]
  },
  {
   "cell_type": "code",
   "execution_count": 86,
   "metadata": {
    "collapsed": true
   },
   "outputs": [],
   "source": [
    "# Load dependencies for this Jupyter Notebook\n",
    "import pandas as pd\n",
    "import numpy as np\n",
    "from functools import reduce\n",
    "from sklearn.decomposition import PCA,SparsePCA,KernelPCA\n",
    "from sklearn.manifold import TSNE, Isomap\n",
    "import matplotlib.pyplot as plt\n",
    "\n",
    "#Train and Test preprocessing\n",
    "from sklearn.model_selection import train_test_split\n",
    "from sklearn import preprocessing\n",
    "\n",
    "#Classifiers:\n",
    "from sklearn import svm\n",
    "from sklearn.tree import DecisionTreeClassifier\n",
    "from sklearn.ensemble import RandomForestClassifier, AdaBoostClassifier\n",
    "from sklearn.neighbors import KNeighborsClassifier\n",
    "from sklearn.gaussian_process import GaussianProcessClassifier\n",
    "from sklearn.gaussian_process import GaussianProcessClassifier\n",
    "from sklearn.gaussian_process.kernels import RBF"
   ]
  },
  {
   "cell_type": "markdown",
   "metadata": {},
   "source": [
    "## Parsing and Cleaning Data\n",
    "This step takes the raw PHEME rumor dataset and saves it tabular format as CSV file. The original PHEME dataset consists of JSON files organized into directories by event and category (rumor or non-rumor). These three functions below parse the data, save it as a CSV file (if necessary), and load it into this notebook as a Pandas DataFrame from the \"cached\" CSV file."
   ]
  },
  {
   "cell_type": "markdown",
   "metadata": {},
   "source": [
    "### The Ottawa Shooting"
   ]
  },
  {
   "cell_type": "code",
   "execution_count": 3,
   "metadata": {
    "collapsed": false
   },
   "outputs": [
    {
     "data": {
      "text/html": [
       "<div>\n",
       "<style scoped>\n",
       "    .dataframe tbody tr th:only-of-type {\n",
       "        vertical-align: middle;\n",
       "    }\n",
       "\n",
       "    .dataframe tbody tr th {\n",
       "        vertical-align: top;\n",
       "    }\n",
       "\n",
       "    .dataframe thead th {\n",
       "        text-align: right;\n",
       "    }\n",
       "</style>\n",
       "<table border=\"1\" class=\"dataframe\">\n",
       "  <thead>\n",
       "    <tr style=\"text-align: right;\">\n",
       "      <th></th>\n",
       "      <th>coordinates</th>\n",
       "      <th>created</th>\n",
       "      <th>favorite_count</th>\n",
       "      <th>has_url</th>\n",
       "      <th>hashtags_count</th>\n",
       "      <th>id</th>\n",
       "      <th>in_reply_id</th>\n",
       "      <th>in_reply_user</th>\n",
       "      <th>is_rumor</th>\n",
       "      <th>is_source_tweet</th>\n",
       "      <th>...</th>\n",
       "      <th>user.followers_count</th>\n",
       "      <th>user.friends_count</th>\n",
       "      <th>user.geo_enabled</th>\n",
       "      <th>user.listed_count</th>\n",
       "      <th>user.location</th>\n",
       "      <th>user.profile_users_background_image</th>\n",
       "      <th>user.time_zone</th>\n",
       "      <th>user.tweets_count</th>\n",
       "      <th>user.utf_offset</th>\n",
       "      <th>user.verified</th>\n",
       "    </tr>\n",
       "  </thead>\n",
       "  <tbody>\n",
       "    <tr>\n",
       "      <th>0</th>\n",
       "      <td>NaN</td>\n",
       "      <td>1.413986e+12</td>\n",
       "      <td>21</td>\n",
       "      <td>False</td>\n",
       "      <td>2</td>\n",
       "      <td>524922078638903296</td>\n",
       "      <td>NaN</td>\n",
       "      <td>NaN</td>\n",
       "      <td>False</td>\n",
       "      <td>True</td>\n",
       "      <td>...</td>\n",
       "      <td>66724.0</td>\n",
       "      <td>296.0</td>\n",
       "      <td>True</td>\n",
       "      <td>1661.0</td>\n",
       "      <td>Ottawa</td>\n",
       "      <td>True</td>\n",
       "      <td>Eastern Time (US &amp; Canada)</td>\n",
       "      <td>38424.0</td>\n",
       "      <td>-14400.0</td>\n",
       "      <td>True</td>\n",
       "    </tr>\n",
       "    <tr>\n",
       "      <th>1</th>\n",
       "      <td>NaN</td>\n",
       "      <td>1.413986e+12</td>\n",
       "      <td>0</td>\n",
       "      <td>False</td>\n",
       "      <td>0</td>\n",
       "      <td>524922392582586368</td>\n",
       "      <td>524922078638903296</td>\n",
       "      <td>NaN</td>\n",
       "      <td>False</td>\n",
       "      <td>False</td>\n",
       "      <td>...</td>\n",
       "      <td>278.0</td>\n",
       "      <td>636.0</td>\n",
       "      <td>True</td>\n",
       "      <td>3.0</td>\n",
       "      <td>Tallon IV</td>\n",
       "      <td>True</td>\n",
       "      <td>Eastern Time (US &amp; Canada)</td>\n",
       "      <td>4116.0</td>\n",
       "      <td>-14400.0</td>\n",
       "      <td>True</td>\n",
       "    </tr>\n",
       "    <tr>\n",
       "      <th>2</th>\n",
       "      <td>NaN</td>\n",
       "      <td>1.413986e+12</td>\n",
       "      <td>0</td>\n",
       "      <td>False</td>\n",
       "      <td>0</td>\n",
       "      <td>524922589861658624</td>\n",
       "      <td>524922392582586368</td>\n",
       "      <td>NaN</td>\n",
       "      <td>False</td>\n",
       "      <td>False</td>\n",
       "      <td>...</td>\n",
       "      <td>4904.0</td>\n",
       "      <td>2026.0</td>\n",
       "      <td>True</td>\n",
       "      <td>209.0</td>\n",
       "      <td>MontrÃ©al</td>\n",
       "      <td>True</td>\n",
       "      <td>Eastern Time (US &amp; Canada)</td>\n",
       "      <td>19304.0</td>\n",
       "      <td>-14400.0</td>\n",
       "      <td>True</td>\n",
       "    </tr>\n",
       "    <tr>\n",
       "      <th>3</th>\n",
       "      <td>NaN</td>\n",
       "      <td>1.413986e+12</td>\n",
       "      <td>0</td>\n",
       "      <td>False</td>\n",
       "      <td>0</td>\n",
       "      <td>524922681595269120</td>\n",
       "      <td>524922078638903296</td>\n",
       "      <td>NaN</td>\n",
       "      <td>False</td>\n",
       "      <td>False</td>\n",
       "      <td>...</td>\n",
       "      <td>3646.0</td>\n",
       "      <td>2203.0</td>\n",
       "      <td>True</td>\n",
       "      <td>62.0</td>\n",
       "      <td>analystepolice@yahoo.ca</td>\n",
       "      <td>True</td>\n",
       "      <td>Central Time (US &amp; Canada)</td>\n",
       "      <td>16771.0</td>\n",
       "      <td>-18000.0</td>\n",
       "      <td>True</td>\n",
       "    </tr>\n",
       "    <tr>\n",
       "      <th>4</th>\n",
       "      <td>NaN</td>\n",
       "      <td>1.413986e+12</td>\n",
       "      <td>0</td>\n",
       "      <td>False</td>\n",
       "      <td>0</td>\n",
       "      <td>524923071090917376</td>\n",
       "      <td>524922681595269120</td>\n",
       "      <td>NaN</td>\n",
       "      <td>False</td>\n",
       "      <td>False</td>\n",
       "      <td>...</td>\n",
       "      <td>178.0</td>\n",
       "      <td>130.0</td>\n",
       "      <td>True</td>\n",
       "      <td>5.0</td>\n",
       "      <td>MontrÃ©al,Lachine</td>\n",
       "      <td>True</td>\n",
       "      <td>Quito</td>\n",
       "      <td>8047.0</td>\n",
       "      <td>-18000.0</td>\n",
       "      <td>True</td>\n",
       "    </tr>\n",
       "  </tbody>\n",
       "</table>\n",
       "<p>5 rows × 34 columns</p>\n",
       "</div>"
      ],
      "text/plain": [
       "  coordinates       created  favorite_count has_url  hashtags_count  \\\n",
       "0         NaN  1.413986e+12              21   False               2   \n",
       "1         NaN  1.413986e+12               0   False               0   \n",
       "2         NaN  1.413986e+12               0   False               0   \n",
       "3         NaN  1.413986e+12               0   False               0   \n",
       "4         NaN  1.413986e+12               0   False               0   \n",
       "\n",
       "                   id         in_reply_id in_reply_user is_rumor  \\\n",
       "0  524922078638903296                 NaN           NaN    False   \n",
       "1  524922392582586368  524922078638903296           NaN    False   \n",
       "2  524922589861658624  524922392582586368           NaN    False   \n",
       "3  524922681595269120  524922078638903296           NaN    False   \n",
       "4  524923071090917376  524922681595269120           NaN    False   \n",
       "\n",
       "  is_source_tweet      ...        user.followers_count user.friends_count  \\\n",
       "0            True      ...                     66724.0              296.0   \n",
       "1           False      ...                       278.0              636.0   \n",
       "2           False      ...                      4904.0             2026.0   \n",
       "3           False      ...                      3646.0             2203.0   \n",
       "4           False      ...                       178.0              130.0   \n",
       "\n",
       "  user.geo_enabled  user.listed_count            user.location  \\\n",
       "0             True             1661.0                   Ottawa   \n",
       "1             True                3.0                Tallon IV   \n",
       "2             True              209.0                MontrÃ©al   \n",
       "3             True               62.0  analystepolice@yahoo.ca   \n",
       "4             True                5.0        MontrÃ©al,Lachine   \n",
       "\n",
       "   user.profile_users_background_image              user.time_zone  \\\n",
       "0                                 True  Eastern Time (US & Canada)   \n",
       "1                                 True  Eastern Time (US & Canada)   \n",
       "2                                 True  Eastern Time (US & Canada)   \n",
       "3                                 True  Central Time (US & Canada)   \n",
       "4                                 True                       Quito   \n",
       "\n",
       "  user.tweets_count  user.utf_offset  user.verified  \n",
       "0           38424.0         -14400.0           True  \n",
       "1            4116.0         -14400.0           True  \n",
       "2           19304.0         -14400.0           True  \n",
       "3           16771.0         -18000.0           True  \n",
       "4            8047.0         -18000.0           True  \n",
       "\n",
       "[5 rows x 34 columns]"
      ]
     },
     "execution_count": 3,
     "metadata": {},
     "output_type": "execute_result"
    }
   ],
   "source": [
    "ottawashooting = pd.read_csv(\"data/pheme-rnr-dataset/ottawashooting.csv\",\n",
    "                             dtype={\"user.verified\": np.bool,\n",
    "                                    \"user.default_profile\": np.bool,\n",
    "                                    \"user.geo_enabled\": np.bool},\n",
    "                             engine=\"python\")  # This engine helps when loading large datasets\n",
    "\n",
    "# Remove rows with boolean False values in the hashtags_count column\n",
    "ottawashooting = ottawashooting.drop(ottawashooting[ottawashooting.hashtags_count == \"False\"].index)\n",
    "ottawashooting.hashtags_count = ottawashooting.hashtags_count.astype(np.int32)\n",
    "\n",
    "# Remove the row with NoneType in the retweet_count column\n",
    "ottawashooting = ottawashooting.drop(ottawashooting[ottawashooting.retweet_count.isnull()].index)\n",
    "ottawashooting[\"retweet_count\"] = ottawashooting[\"retweet_count\"].astype(np.int32)\n",
    "\n",
    "# Convert datetime strings to timestamps\n",
    "for col in [\"user.created_at\", \"created\"]:\n",
    "    ottawashooting[col] = pd.to_datetime(ottawashooting[col]).astype(np.int64) / 1e6\n",
    "    \n",
    "ottawashooting.head()"
   ]
  },
  {
   "cell_type": "markdown",
   "metadata": {},
   "source": [
    "## Aggregating Thread-level Data\n",
    "\n",
    "**Bold features** represent high performing features identified in C. Buntain and J. Golbeck, [\"Automatically Identifying Fake News in Popular Twitter Threads\"](http://ieeexplore.ieee.org/stamp/stamp.jsp?tp=&arnumber=8118443&isnumber=8118402)\n",
    "\n",
    "1. `favorite_total`: The sum of all favorites from all tweets in this thread.\n",
    "1. `retweet_total`: The sum of all retweets of all tweets in this thread.\n",
    "1. `is_rumor`: Was this thread classified as rumor? Either `True` or `False`.\n",
    "1. `url_proportion`: The fraction of tweets in a thread with a URL in the tweet text. Ranges from $[0,1]$.\n",
    "1. `thread_length`: The number of tweets in this thread.\n",
    "1. **`hashtag_proportion`**: The fraction of tweets in a thread with a hashtag in the tweet text. Ranges from $[0,1]$.\n",
    "1. **`smile_emoji_proportion`**: The fraction of tweets in a thread with a smile emoji (😊) in the tweet text. Ranges from $[0,1]$.\n",
    "1. **`src_followers_count`**: The number of followers of the original poster of the thread.\n",
    "1. *`src_list_count`*: The number of lists the user has currated or the number of lists the user is a member of, but not sure which one.\n",
    "1. `is_src_verified`: Is the source user's Twitter account verified? Either `True` or `False`.\n",
    "1. `symbol_total`: The total number of $cashtags, a.k.a [symbols](https://developer.twitter.com/en/docs/tweets/data-dictionary/overview/entities-object.html#symbols), in a tweet thread.\n",
    "1. `src_tweets_total`: The total number of tweets authored by the user of the source tweet.\n",
    "1. `src_user_creation_date`: The timestamp of when the user of the source tweet first created a Twitter account.\n",
    "1. `first_resp`: The timestamp of the first response to the source tweet.\n",
    "1. `last_resp`: The timestamp of the last response to the source tweet\n",
    "1. `resp_var`: The variance in the timestamps of responses to the source tweet\n",
    "1. `src_user_geo_enabled`: Has the source [user of the tweet](https://developer.twitter.com/en/docs/tweets/data-dictionary/overview/user-object.html) enabled the possibility of geotagging their tweets?\n",
    "1. `geo_enabled_proportion`: Proportion of users in a tweet thread who have enabled the possibility of geotagging their tweets."
   ]
  },
  {
   "cell_type": "code",
   "execution_count": 4,
   "metadata": {
    "collapsed": true
   },
   "outputs": [],
   "source": [
    "def agg_event_data(df, limit=0):\n",
    "    \"\"\" Aggregate tabular tweet data from a PHEME event into aggregated thread-level data\n",
    "    \n",
    "    Params:\n",
    "        - df: the DataFrame with tabular tweet data\n",
    "       \n",
    "    Return: A DataFrame with thread-level data for this event\n",
    "    \"\"\"\n",
    "    data = df.head(limit) if limit > 0 else df\n",
    "    data = data.replace({\"has_url\": {\"True\": True, \"False\": False}})\n",
    "    \n",
    "    # Returns the proportion of True values in col\n",
    "    bool_prop = lambda col : np.sum(col) / len(col)\n",
    "    \n",
    "    agg = data.groupby(\"thread\") \\\n",
    "        .agg({\"favorite_count\": sum,\n",
    "              \"retweet_count\": sum,\n",
    "              \"is_rumor\": max,\n",
    "              \"has_url\": bool_prop,\n",
    "              \"id\": len,\n",
    "              \"user.geo_enabled\": bool_prop,\n",
    "              \"symbols_count\": sum,\n",
    "              \"user.default_profile\": bool_prop,\n",
    "              \"hashtags_count\": lambda col: len([True for total in col if total > 0]) / len(col),\n",
    "              \"text\": lambda col: len([True for txt in col if \"😊\" in txt]) / len(col)}) \\\n",
    "        .rename(columns={\"favorite_count\": \"favorite_total\",\n",
    "                         \"retweet_count\": \"retweet_total\",\n",
    "                         \"user.friends_count\": \"friends_total\",\n",
    "                         \"id\": \"thread_length\",\n",
    "                         \"has_url\":\"url_proportion\",\n",
    "                         \"hashtags_count\": \"hashtag_proportion\",\n",
    "                         \"text\": \"smile_emoji_proportion\",\n",
    "                         \"user.default_profile\": \"default_profile_proportion\",\n",
    "                         \"user.geo_enabled\": \"geo_enabled_proportion\",\n",
    "                         \"symbols_count\": \"symbol_total\"})\n",
    "    \n",
    "    # source tweets will have equal thread id and tweet id\n",
    "    src = data[data[\"thread\"] == data[\"id\"]][[\"thread\", \n",
    "                                              \"user.followers_count\", \n",
    "                                              \"user.listed_count\",\n",
    "                                              \"user.verified\",\n",
    "                                              \"created\",\n",
    "                                              \"user.geo_enabled\",\n",
    "                                              \"user.created_at\",\n",
    "                                              \"user.tweets_count\"]] \\\n",
    "        .rename(columns={\"user.followers_count\": \"src_followers_count\",\n",
    "                         \"user.listed_count\": \"src_listed_count\",\n",
    "                         \"user.verified\": \"src_user_verified\",\n",
    "                         \"user.created_at\": \"src_user_creation_date\",\n",
    "                         \"user.geo_enabled\": \"src_user_geo_enabled\",\n",
    "                         \"user.tweets_count\": \"src_tweets_total\"})\n",
    "    def f(x):\n",
    "        d = []\n",
    "        d.append(min(x[\"created\"]))\n",
    "        d.append(max(x[\"created\"]))\n",
    "        d.append(np.var(x[\"created\"]))\n",
    "        return pd.Series(d, index=[\"first_resp\", \"last_resp\",\"resp_var\"])\n",
    "    \n",
    "    non_src = data[data[\"thread\"] != data[\"id\"]] \\\n",
    "        .groupby(\"thread\") \\\n",
    "        .apply(f)\n",
    "\n",
    "    dfs = [agg, src, non_src]\n",
    "    \n",
    "    thrd_data = reduce(lambda left,right: pd.merge(left,right, on=\"thread\"), dfs)\n",
    "    \n",
    "    thrd_data[\"first_resp\"]=thrd_data[\"first_resp\"]-thrd_data[\"created\"]\n",
    "    thrd_data[\"last_resp\"]=thrd_data[\"last_resp\"]-thrd_data[\"created\"]\n",
    "    \n",
    "\n",
    "    \n",
    "    return thrd_data"
   ]
  },
  {
   "cell_type": "code",
   "execution_count": 5,
   "metadata": {
    "collapsed": false,
    "scrolled": true
   },
   "outputs": [],
   "source": [
    "ottawa_threads = agg_event_data(ottawashooting)\n",
    "\n",
    "# Save CSV file in /data directory\n",
    "ottawa_threads.to_csv(\"data/pheme-rnr-dataset/ottawashooting_threads.csv\")\n",
    "\n",
    "# import math\n",
    "# Print the first five rows\n",
    "ottawa_threads.head()\n",
    "ottawa_threads_rumortags=ottawa_threads[\"is_rumor\"]\n",
    "ottawa_threads=ottawa_threads.drop(['is_rumor'],axis=1)"
   ]
  },
  {
   "cell_type": "markdown",
   "metadata": {},
   "source": [
    "## Running a PCA\n"
   ]
  },
  {
   "cell_type": "markdown",
   "metadata": {},
   "source": [
    "### used functions:"
   ]
  },
  {
   "cell_type": "code",
   "execution_count": 6,
   "metadata": {
    "collapsed": true
   },
   "outputs": [],
   "source": [
    "def myprint(*obj,time=10):\n",
    "    if myprint.t<time:\n",
    "        print(*obj)\n",
    "def convertTrueFalseTo01(X):\n",
    "    X[X==True]=1\n",
    "    X[X==False]=0\n",
    "    X[X=='False']=0\n",
    "    X[X=='True']=1\n",
    "    return X\n",
    "\n",
    "    \n",
    "def standardize_cols(X, mu=None, sigma=None):\n",
    "    # Standardize each column with mean 0 and variance 1\n",
    "    n_rows, n_cols = X.shape\n",
    "\n",
    "    if mu is None:\n",
    "        mu = np.mean(X, axis=0)\n",
    "\n",
    "    if sigma is None:\n",
    "        sigma = np.std(X, axis=0)\n",
    "        sigma[sigma < 1e-8] = 1.\n",
    "\n",
    "    return (X - mu) / sigma, mu, sigma\n"
   ]
  },
  {
   "cell_type": "markdown",
   "metadata": {},
   "source": [
    "### Data Preprocessing:"
   ]
  },
  {
   "cell_type": "code",
   "execution_count": 40,
   "metadata": {
    "collapsed": false
   },
   "outputs": [
    {
     "name": "stdout",
     "output_type": "stream",
     "text": [
      "(857, 19)\n"
     ]
    }
   ],
   "source": [
    "ottawa_threads_values=ottawa_threads.values\n",
    "n,d=ottawa_threads_values.shape\n",
    "ottawa_threads_values=convertTrueFalseTo01(ottawa_threads_values[:,1:d])\n",
    "n,d=ottawa_threads_values.shape\n",
    "\n",
    "ottawa_threads_rumortags_values=convertTrueFalseTo01(ottawa_threads_rumortags.values)\n",
    "\n",
    "ottawa_threads_values,_,_=standardize_cols(ottawa_threads_values.astype(float))\n",
    "\n",
    "n,d=ottawa_threads_values.shape\n",
    "print(ottawa_threads_values.shape)"
   ]
  },
  {
   "cell_type": "markdown",
   "metadata": {},
   "source": [
    "### PCA:"
   ]
  },
  {
   "cell_type": "code",
   "execution_count": 41,
   "metadata": {
    "collapsed": false,
    "scrolled": true
   },
   "outputs": [],
   "source": [
    "model=PCA(n_components=2)\n",
    "model.fit(ottawa_threads_values)\n",
    "Z_PCA=model.transform(ottawa_threads_values)\n",
    "plt.figure()\n",
    "plt.title(\"PCA\")\n",
    "plt.scatter(Z_PCA[:,0],Z_PCA[:,1],c=ottawa_threads_rumortags_values)\n",
    "plt.show()"
   ]
  },
  {
   "cell_type": "markdown",
   "metadata": {},
   "source": [
    "### TSNE:"
   ]
  },
  {
   "cell_type": "code",
   "execution_count": 8,
   "metadata": {
    "collapsed": true
   },
   "outputs": [],
   "source": [
    "model=TSNE(n_components=2)\n",
    "Z_TSNE=model.fit_transform(ottawa_threads_values)\n",
    "plt.figure()\n",
    "plt.title(\"TSNE\")\n",
    "plt.scatter(Z_TSNE[:,0],Z_TSNE[:,1],c=ottawa_threads_rumortags_values)\n",
    "plt.show()"
   ]
  },
  {
   "cell_type": "markdown",
   "metadata": {},
   "source": [
    "### Isomap:"
   ]
  },
  {
   "cell_type": "code",
   "execution_count": 112,
   "metadata": {
    "collapsed": true
   },
   "outputs": [],
   "source": [
    "model=Isomap(n_neighbors=5, n_components=2)\n",
    "Z_Isomap=model.fit_transform(ottawa_threads_values)\n",
    "plt.figure()\n",
    "plt.title(\"Isomap\")\n",
    "plt.scatter(Z_Isomap[:,0],Z_Isomap[:,1],c=ottawa_threads_rumortags_values)\n",
    "plt.show()"
   ]
  },
  {
   "cell_type": "markdown",
   "metadata": {},
   "source": [
    "### SparsePCA:"
   ]
  },
  {
   "cell_type": "code",
   "execution_count": 117,
   "metadata": {
    "collapsed": false
   },
   "outputs": [],
   "source": [
    "model=SparsePCA(n_components=2,normalize_components=True)\n",
    "model.fit(ottawa_threads_values)\n",
    "Z_PCA=model.transform(ottawa_threads_values)\n",
    "plt.figure()\n",
    "plt.title(\"SparsePCA\")\n",
    "plt.scatter(Z_PCA[:,0],Z_PCA[:,1],c=ottawa_threads_rumortags_values)\n",
    "plt.show()"
   ]
  },
  {
   "cell_type": "markdown",
   "metadata": {},
   "source": [
    "### KernelPCA:"
   ]
  },
  {
   "cell_type": "code",
   "execution_count": 120,
   "metadata": {
    "collapsed": false
   },
   "outputs": [],
   "source": [
    "model=KernelPCA(n_components=2)\n",
    "model.fit(ottawa_threads_values)\n",
    "Z_PCA=model.transform(ottawa_threads_values)\n",
    "plt.figure()\n",
    "plt.title(\"KernelPCA\")\n",
    "plt.scatter(Z_PCA[:,0],Z_PCA[:,1],c=ottawa_threads_rumortags_values)\n",
    "plt.show()"
   ]
  },
  {
   "cell_type": "markdown",
   "metadata": {},
   "source": [
    "## Running some classifiers\n",
    "### Train and Test data separation:"
   ]
  },
  {
   "cell_type": "code",
   "execution_count": 38,
   "metadata": {
    "collapsed": false
   },
   "outputs": [
    {
     "name": "stdout",
     "output_type": "stream",
     "text": [
      "(642, 19) (215, 19) (642,)\n",
      "y_train bincount: [0.46573209 0.53426791]\n",
      "y_test bincount: [0.46976744 0.53023256]\n"
     ]
    }
   ],
   "source": [
    "X_train, X_test, y_train, y_test = train_test_split(ottawa_threads_values, ottawa_threads_rumortags_values, test_size=0.25, random_state=45)\n",
    "le = preprocessing.LabelEncoder()\n",
    "le.fit(y_train)\n",
    "y_train=le.transform(y_train)\n",
    "y_test=le.transform(y_test)\n",
    "print(X_train.shape,X_test.shape,y_train.shape)\n",
    "print('y_train bincount:', np.bincount(y_train)/np.sum(np.bincount(y_train)))\n",
    "print('y_test bincount:', np.bincount(y_test)/np.sum(np.bincount(y_test)))"
   ]
  },
  {
   "cell_type": "markdown",
   "metadata": {},
   "source": [
    "### SVM.SVC:"
   ]
  },
  {
   "cell_type": "code",
   "execution_count": 56,
   "metadata": {
    "collapsed": true
   },
   "outputs": [],
   "source": [
    "def test_model(model):\n",
    "    model.fit(X_train,y_train)\n",
    "    y_test_hat=model.predict(X_test)\n",
    "    print('train error:', np.mean(model.predict(X_train)==y_train))\n",
    "    print('test error:', np.mean(y_test_hat==y_test))"
   ]
  },
  {
   "cell_type": "code",
   "execution_count": 58,
   "metadata": {
    "collapsed": false,
    "scrolled": false
   },
   "outputs": [
    {
     "name": "stdout",
     "output_type": "stream",
     "text": [
      "train error: 0.7601246105919003\n",
      "test error: 0.6976744186046512\n"
     ]
    }
   ],
   "source": [
    "clf = svm.SVC(gamma='scale', kernel='linear', C=1)\n",
    "test_model(model)"
   ]
  },
  {
   "cell_type": "code",
   "execution_count": null,
   "metadata": {
    "collapsed": true
   },
   "outputs": [],
   "source": []
  },
  {
   "cell_type": "code",
   "execution_count": 63,
   "metadata": {
    "collapsed": false
   },
   "outputs": [
    {
     "name": "stdout",
     "output_type": "stream",
     "text": [
      "train error: 0.7601246105919003\n",
      "test error: 0.6976744186046512\n"
     ]
    }
   ],
   "source": [
    "model = KNeighborsClassifier(n_neighbors=5)\n",
    "test_model(model)"
   ]
  },
  {
   "cell_type": "code",
   "execution_count": 68,
   "metadata": {
    "collapsed": false
   },
   "outputs": [
    {
     "name": "stdout",
     "output_type": "stream",
     "text": [
      "train error: 1.0\n",
      "test error: 0.6511627906976745\n"
     ]
    }
   ],
   "source": [
    "model=DecisionTreeClassifier(random_state=0)\n",
    "test_model(model)"
   ]
  },
  {
   "cell_type": "code",
   "execution_count": 93,
   "metadata": {
    "collapsed": false
   },
   "outputs": [
    {
     "name": "stdout",
     "output_type": "stream",
     "text": [
      "train error: 0.7741433021806854\n",
      "test error: 0.6976744186046512\n"
     ]
    }
   ],
   "source": [
    "model=RandomForestClassifier(n_estimators=100, max_depth=4, random_state=4, max_features=2)\n",
    "test_model(model)"
   ]
  },
  {
   "cell_type": "code",
   "execution_count": 81,
   "metadata": {
    "collapsed": false
   },
   "outputs": [
    {
     "name": "stdout",
     "output_type": "stream",
     "text": [
      "train error: 0.8551401869158879\n",
      "test error: 0.6744186046511628\n"
     ]
    }
   ],
   "source": [
    "model=AdaBoostClassifier(n_estimators=100)\n",
    "test_model(model)"
   ]
  },
  {
   "cell_type": "code",
   "execution_count": 87,
   "metadata": {
    "collapsed": false
   },
   "outputs": [
    {
     "name": "stdout",
     "output_type": "stream",
     "text": [
      "train error: 0.719626168224299\n",
      "test error: 0.6465116279069767\n"
     ]
    }
   ],
   "source": [
    "model=GaussianProcessClassifier(1.0 * RBF(1.0))\n",
    "test_model(model)"
   ]
  },
  {
   "cell_type": "code",
   "execution_count": null,
   "metadata": {
    "collapsed": true
   },
   "outputs": [],
   "source": []
  }
 ],
 "metadata": {
  "kernelspec": {
   "display_name": "Python 3",
   "language": "python",
   "name": "python3"
  },
  "language_info": {
   "codemirror_mode": {
    "name": "ipython",
    "version": 3
   },
   "file_extension": ".py",
   "mimetype": "text/x-python",
   "name": "python",
   "nbconvert_exporter": "python",
   "pygments_lexer": "ipython3",
   "version": "3.5.4"
  }
 },
 "nbformat": 4,
 "nbformat_minor": 2
}
